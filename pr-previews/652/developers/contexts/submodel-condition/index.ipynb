{
  "cells": [
    {
      "cell_type": "code",
      "execution_count": null,
      "metadata": {},
      "outputs": [],
      "source": "using Pkg; Pkg.activate(; temp=true)\nPkg.add(\"AbstractPPL\")\nPkg.add(\"Distributions\")\nPkg.add(\"DynamicPPL\")"
    },
    {
      "cell_type": "markdown",
      "metadata": {},
      "source": "This page is a technical explanation of how contexts are managed for submodels.\n\nA user-facing guide to submodels is available on [this page]({{< meta usage-submodels >}}).\n\n## PrefixContext\n\nSubmodels in DynamicPPL come with the notion of _prefixing_ variables: under the hood, this is implemented by adding a `PrefixContext` to the context stack.\n\n`PrefixContext` is a context that, as the name suggests, prefixes all variables inside a model with a given symbol.\nThus, for example:"
    },
    {
      "cell_type": "code",
      "execution_count": null,
      "metadata": {},
      "outputs": [],
      "source": "using DynamicPPL, Distributions\n\n@model function f()\n    x ~ Normal()\n    return y ~ Normal()\nend\n\n@model function g()\n    return a ~ to_submodel(f())\nend"
    },
    {
      "cell_type": "markdown",
      "metadata": {},
      "source": "inside the submodel `f`, the variables `x` and `y` become `a.x` and `a.y` respectively.\nThis is easiest to observe by running the model:"
    },
    {
      "cell_type": "code",
      "execution_count": null,
      "metadata": {},
      "outputs": [],
      "source": "vi = VarInfo(g())\nkeys(vi)"
    },
    {
      "cell_type": "markdown",
      "metadata": {},
      "source": "::: {.callout-note}\nIn this case, where `to_submodel` is called without any other arguments, the prefix to be used is automatically inferred from the name of the variable on the left-hand side of the tilde.\nWe will return to the 'manual prefixing' case later.\n:::\n\nThe phrase 'becoming' a different variable is a little underspecified: it is useful to pinpoint the exact location where the prefixing occurs, which is `tilde_assume`.\nThe method responsible for it is `tilde_assume(::PrefixContext, right, vn, vi)`: this attaches the prefix in the context to the `VarName` argument, before recursively calling `tilde_assume` with the new prefixed `VarName`.\nThis means that even though a statement `x ~ dist` still enters the tilde pipeline at the top level as `x`, if the model evaluation context contains a `PrefixContext`, any function after `tilde_assume(::PrefixContext, ...)` will see `a.x` instead.\n\n## ConditionContext\n\n`ConditionContext` is a context which stores values of variables that are to be conditioned on.\nThese values may be stored as a `Dict` which maps `VarName`s to values, or alternatively as a `NamedTuple`.\nThe latter only works correctly if all `VarName`s are 'basic', in that they have an identity optic (i.e., something like `a.x` or `a[1]` is forbidden).\nBecause of this limitation, we will only use `Dict` in this example.\n\n::: {.callout-note}\nIf a `ConditionContext` with a `NamedTuple` encounters anything to do with a prefix, its internal `NamedTuple` is converted to a `Dict` anyway, so it is quite reasonable to ignore the `NamedTuple` case in this exposition.\n:::\n\nOne can inspect the conditioning values with, for example:"
    },
    {
      "cell_type": "code",
      "execution_count": null,
      "metadata": {},
      "outputs": [],
      "source": "@model function d()\n    x ~ Normal()\n    return y ~ Normal()\nend\n\ncond_model = d() | (@varname(x) => 1.0)\ncond_ctx = cond_model.context"
    },
    {
      "cell_type": "markdown",
      "metadata": {},
      "source": "There are several internal functions that are used to determine whether a variable is conditioned, and if so, what its value is."
    },
    {
      "cell_type": "code",
      "execution_count": null,
      "metadata": {},
      "outputs": [],
      "source": "DynamicPPL.hasconditioned_nested(cond_ctx, @varname(x))"
    },
    {
      "cell_type": "code",
      "execution_count": null,
      "metadata": {},
      "outputs": [],
      "source": "DynamicPPL.getconditioned_nested(cond_ctx, @varname(x))"
    },
    {
      "cell_type": "markdown",
      "metadata": {},
      "source": "These functions are in turn used by the function `DynamicPPL.contextual_isassumption`, which is largely the same as `hasconditioned_nested`, but also checks whether the value is `missing` (in which case it isn't really conditioned)."
    },
    {
      "cell_type": "code",
      "execution_count": null,
      "metadata": {},
      "outputs": [],
      "source": "DynamicPPL.contextual_isassumption(cond_ctx, @varname(x))"
    },
    {
      "cell_type": "markdown",
      "metadata": {},
      "source": "::: {.callout-note}\nNotice that (neglecting `missing` values) the return value of `contextual_isassumption` is the _opposite_ of `hasconditioned_nested`, i.e. for a variable that _is_ conditioned on, `contextual_isassumption` returns `false`.\n:::\n\nIf a variable `x` is conditioned on, then the effect of this is to set the value of `x` to the given value (while still including its contribution to the log probability density).\nSince `x` is no longer a random variable, if we were to evaluate the model, we would find only one key in the `VarInfo`:"
    },
    {
      "cell_type": "code",
      "execution_count": null,
      "metadata": {},
      "outputs": [],
      "source": "keys(VarInfo(cond_model))"
    },
    {
      "cell_type": "markdown",
      "metadata": {},
      "source": "## Joint behaviour: desiderata at the model level\n\nWhen paired together, these two contexts have the potential to cause substantial confusion: `PrefixContext` modifies the variable names that are seen, which may cause them to be out of sync with the values contained inside the `ConditionContext`.\n\nWe begin by mentioning some high-level desiderata for their joint behaviour.\nTake these models, for example:"
    },
    {
      "cell_type": "code",
      "execution_count": null,
      "metadata": {},
      "outputs": [],
      "source": "# We define a helper function to unwrap a layer of SamplingContext, to\n# avoid cluttering the print statements.\nunwrap_sampling_context(ctx::DynamicPPL.SamplingContext) = ctx.context\nunwrap_sampling_context(ctx::DynamicPPL.AbstractContext) = ctx\n\n@model function inner()\n    println(\"inner context: $(unwrap_sampling_context(__model__.context))\")\n    x ~ Normal()\n    return y ~ Normal()\nend\n\n@model function outer()\n    println(\"outer context: $(unwrap_sampling_context(__model__.context))\")\n    return a ~ to_submodel(inner())\nend\n\n# 'Outer conditioning'\nwith_outer_cond = outer() | (@varname(a.x) => 1.0)\n\n# 'Inner conditioning'\ninner_cond = inner() | (@varname(x) => 1.0)\n@model function outer2()\n    println(\"outer context: $(unwrap_sampling_context(__model__.context))\")\n    return a ~ to_submodel(inner_cond)\nend\nwith_inner_cond = outer2()"
    },
    {
      "cell_type": "markdown",
      "metadata": {},
      "source": "We want that:\n\n 1. `keys(VarInfo(outer()))` should return `[a.x, a.y]`;\n 2. `keys(VarInfo(with_outer_cond))` should return `[a.y]`;\n 3. `keys(VarInfo(with_inner_cond))` should return `[a.y]`,\n\n**In other words, we can condition submodels either from the outside (point (2)) or from the inside (point (3)), and the variable name we use to specify the conditioning should match the level at which we perform the conditioning.**\n\nThis is an incredibly salient point because it means that submodels can be treated as individual, opaque objects, and we can condition them without needing to know what it will be prefixed with, or the context in which that submodel is being used.\nFor example, this means we can reuse `inner_cond` in another model with a different prefix, and it will _still_ have its inner `x` value be conditioned, despite the prefix differing.\n\n::: {.callout-note}\nIn the current version of DynamicPPL, these criteria are all fulfilled.\nHowever, this was not the case in the past: in particular, point (3) was not fulfilled, and users had to condition the internal submodel with the prefixes that were used outside.\n(See [this GitHub issue](https://github.com/TuringLang/DynamicPPL.jl/issues/857) for more information; this issue was the direct motivation for this documentation page.)\n:::\n\n## Desiderata at the context level\n\nThe above section describes how we expect conditioning and prefixing to behave from a user's perpective.\nWe now turn to the question of how we implement this in terms of DynamicPPL contexts.\nWe do not specify the implementation details here, but we will sketch out something resembling an API that will allow us to achieve the target behaviour.\n\n**Point (1)** does not involve any conditioning, only prefixing; it is therefore already satisfied by virtue of the `tilde_assume` method shown above.\n\n**Points (2) and (3)** are more tricky.\nAs the reader may surmise, the difference between them is the order in which the contexts are stacked.\n\nFor the _outer_ conditioning case (point (2)), the `ConditionContext` will contain a `VarName` that is already prefixed.\nWhen we enter the inner submodel, this `ConditionContext` has to be passed down and somehow combined with the `PrefixContext` that is created when we enter the submodel.\nWe make the claim here that the best way to do this is to nest the `PrefixContext` _inside_ the `ConditionContext`.\nThis is indeed what happens, as can be demonstrated by running the model."
    },
    {
      "cell_type": "code",
      "execution_count": null,
      "metadata": {},
      "outputs": [],
      "source": "with_outer_cond()"
    },
    {
      "cell_type": "markdown",
      "metadata": {},
      "source": "For the _inner_ conditioning case (point (3)), the outer model is not run with any special context.\nThe inner model will itself contain a `ConditionContext` will contain a `VarName` that is not prefixed.\nWhen we run the model, this `ConditionContext` should be then nested _inside_ a `PrefixContext` to form the final evaluation context.\nAgain, we can run the model to see this in action:"
    },
    {
      "cell_type": "code",
      "execution_count": null,
      "metadata": {},
      "outputs": [],
      "source": "with_inner_cond()"
    },
    {
      "cell_type": "markdown",
      "metadata": {},
      "source": "Putting all of the information so far together, what it means is that if we have these two inner contexts (taken from above):"
    },
    {
      "cell_type": "code",
      "execution_count": null,
      "metadata": {},
      "outputs": [],
      "source": "using DynamicPPL: PrefixContext, ConditionContext, DefaultContext\n\ninner_ctx_with_outer_cond = ConditionContext(\n    Dict(@varname(a.x) => 1.0), PrefixContext(@varname(a))\n)\ninner_ctx_with_inner_cond = PrefixContext(\n    @varname(a), ConditionContext(Dict(@varname(x) => 1.0))\n)"
    },
    {
      "cell_type": "markdown",
      "metadata": {},
      "source": "then we want both of these to be `true` (and thankfully, they are!):"
    },
    {
      "cell_type": "code",
      "execution_count": null,
      "metadata": {},
      "outputs": [],
      "source": "DynamicPPL.hasconditioned_nested(inner_ctx_with_outer_cond, @varname(a.x))"
    },
    {
      "cell_type": "code",
      "execution_count": null,
      "metadata": {},
      "outputs": [],
      "source": "DynamicPPL.hasconditioned_nested(inner_ctx_with_inner_cond, @varname(a.x))"
    },
    {
      "cell_type": "markdown",
      "metadata": {},
      "source": "This allows us to finally specify our task as follows:\n\n(1) Given the correct arguments, we need to make sure that `hasconditioned_nested` and `getconditioned_nested` behave correctly.\n\n(2) We need to make sure that both the correct arguments are supplied. In order to do so:\n\n  - (2a) We need to make sure that when evaluating a submodel, the context stack is arranged such that `PrefixContext` is applied _inside_ the parent model's context, but _outside_ the submodel's own context.\n\n  - (2b) We also need to make sure that the `VarName` passed to it is prefixed correctly.\n\n## How do we do it?\n\n(1) `hasconditioned_nested` and `getconditioned_nested` accomplish this by first 'collapsing' the context stack, i.e. they go through the context stack, remove all `PrefixContext`s, and apply those prefixes to any conditioned variables below it in the stack.\nOnce the `PrefixContext`s have been removed, one can then iterate through the context stack and check if any of the `ConditionContext`s contain the variable, or get the value itself.\nFor more details the reader is encouraged to read the source code.\n\n(2a) We ensure that the context stack is correctly arranged by relying on the behaviour of `make_evaluate_args_and_kwargs`.\nThis function is called whenever a model (which itself contains a context) is evaluated with a separate ('external') context, and makes sure to arrange both of these contexts such that _the model's context is nested inside the external context_.\nThus, as long as prefixing is implemented by applying a `PrefixContext` on the outermost layer of the _inner_ model context, this will be correctly combined with an external context to give the behaviour seen above.\n\n(2b) At first glance, it seems like `tilde_assume` can take care of the `VarName` prefixing for us (as described in the first section).\nHowever, this is not actually the case: `contextual_isassumption`, which is the function that calls `hasconditioned_nested`, is much higher in the call stack than `tilde_assume` is.\nSo, we need to explicitly prefix it before passing it to `contextual_isassumption`.\nThis is done inside the `@model` macro, or technically, its subsidiary function `isassumption`.\n\n## Nested submodels\n\nJust in case the above wasn't complicated enough, we need to also be very careful when dealing with nested submodels, which have multiple layers of `PrefixContext`s which may be interspersed with `ConditionContext`s.\nFor example, in this series of nested submodels,"
    },
    {
      "cell_type": "code",
      "execution_count": null,
      "metadata": {},
      "outputs": [],
      "source": "@model function charlie()\n    x ~ Normal()\n    y ~ Normal()\n    return z ~ Normal()\nend\n@model function bravo()\n    return b ~ to_submodel(charlie() | (@varname(x) => 1.0))\nend\n@model function alpha()\n    return a ~ to_submodel(bravo() | (@varname(b.y) => 1.0))\nend"
    },
    {
      "cell_type": "markdown",
      "metadata": {},
      "source": "we expect that the only variable to be sampled should be `z` inside `charlie`, or rather, `a.b.z` once it has been through the prefixes."
    },
    {
      "cell_type": "code",
      "execution_count": null,
      "metadata": {},
      "outputs": [],
      "source": "keys(VarInfo(alpha()))"
    },
    {
      "cell_type": "markdown",
      "metadata": {},
      "source": "The general strategy that we adopt is similar to above.\nFollowing the principle that `PrefixContext` should be nested inside the outer context, but outside the inner submodel's context, we can infer that the correct context inside `charlie` should be:"
    },
    {
      "cell_type": "code",
      "execution_count": null,
      "metadata": {},
      "outputs": [],
      "source": "big_ctx = PrefixContext(\n    @varname(a),\n    ConditionContext(\n        Dict(@varname(b.y) => 1.0),\n        PrefixContext(@varname(b), ConditionContext(Dict(@varname(x) => 1.0))),\n    ),\n)"
    },
    {
      "cell_type": "markdown",
      "metadata": {},
      "source": "We need several things to work correctly here: we need the `VarName` prefixing to behave correctly, and then we need to implement `hasconditioned_nested` and `getconditioned_nested` on the resulting prefixed `VarName`.\nIt turns out that the prefixing itself is enough to illustrate the most important point in this section, namely, the need to traverse the context stack in a _different direction_ to what most of DynamicPPL does.\n\nLet's work with a function called `myprefix(::AbstractContext, ::VarName)` (to avoid confusion with any existing DynamicPPL function).\nWe should like `myprefix(big_ctx, @varname(x))` to return `@varname(a.b.x)`.\nConsider the following naive implementation, which mirrors a lot of code in the tilde-pipeline:"
    },
    {
      "cell_type": "code",
      "execution_count": null,
      "metadata": {},
      "outputs": [],
      "source": "using DynamicPPL: NodeTrait, IsLeaf, IsParent, childcontext, AbstractContext\nusing AbstractPPL: AbstractPPL\n\nfunction myprefix(ctx::DynamicPPL.AbstractContext, vn::VarName)\n    return myprefix(NodeTrait(ctx), ctx, vn)\nend\nfunction myprefix(::IsLeaf, ::AbstractContext, vn::VarName)\n    return vn\nend\nfunction myprefix(::IsParent, ctx::AbstractContext, vn::VarName)\n    return myprefix(childcontext(ctx), vn)\nend\nfunction myprefix(ctx::DynamicPPL.PrefixContext, vn::VarName)\n    # The functionality to actually manipulate the VarNames is in AbstractPPL\n    new_vn = AbstractPPL.prefix(vn, ctx.vn_prefix)\n    # Then pass to the child context\n    return myprefix(childcontext(ctx), new_vn)\nend\n\nmyprefix(big_ctx, @varname(x))"
    },
    {
      "cell_type": "markdown",
      "metadata": {},
      "source": "This implementation clearly is not correct, because it applies the _inner_ `PrefixContext` before the outer one.\n\nThe right way to implement `myprefix` is to, essentially, reverse the order of two lines above:"
    },
    {
      "cell_type": "code",
      "execution_count": null,
      "metadata": {},
      "outputs": [],
      "source": "function myprefix(ctx::DynamicPPL.PrefixContext, vn::VarName)\n    # Pass to the child context first\n    new_vn = myprefix(childcontext(ctx), vn)\n    # Then apply this context's prefix\n    return AbstractPPL.prefix(new_vn, ctx.vn_prefix)\nend\n\nmyprefix(big_ctx, @varname(x))"
    },
    {
      "cell_type": "markdown",
      "metadata": {},
      "source": "This is a much better result!\nThe implementation of related functions such as `hasconditioned_nested` and `getconditioned_nested`, under the hood, use a similar recursion scheme, so you will find that this is a common pattern when reading the source code of various prefixing-related functions.\nWhen editing this code, it is worth being mindful of this as a potential source of incorrectness.\n\n::: {.callout-note}\nIf you have encountered left and right folds, the above discussion illustrates the difference between them: the wrong implementation of `myprefix` uses a left fold (which collects prefixes in the opposite order from which they are encountered), while the correct implementation uses a right fold.\n:::\n\n## Loose ends 1: Manual prefixing\n\nSometimes users may want to manually prefix a model, for example:"
    },
    {
      "cell_type": "code",
      "execution_count": null,
      "metadata": {},
      "outputs": [],
      "source": "@model function inner_manual()\n    x ~ Normal()\n    return y ~ Normal()\nend\n\n@model function outer_manual()\n    return _unused ~ to_submodel(prefix(inner_manual(), :a), false)\nend"
    },
    {
      "cell_type": "markdown",
      "metadata": {},
      "source": "In this case, the `VarName` on the left-hand side of the tilde is not used, and the prefix is instead specified using the `prefix` function.\n\nThe way to deal with this follows on from the previous discussion.\nSpecifically, we said that:\n\n> [...] as long as prefixing is implemented by applying a `PrefixContext` on the outermost layer of the _inner_ model context, this will be correctly combined [...]\n\nWhen automatic prefixing is used, this application of `PrefixContext` occurs inside the `tilde_assume!!` method.\nIn the manual prefixing case, we need to make sure that `prefix(submodel::Model, ::Symbol)` does the same thing, i.e. it inserts a `PrefixContext` at the outermost layer of `submodel`'s context.\nWe can see that this is precisely what happens:"
    },
    {
      "cell_type": "code",
      "execution_count": null,
      "metadata": {},
      "outputs": [],
      "source": "@model f() = x ~ Normal()\n\nmodel = f()\nprefixed_model = prefix(model, :a)\n\n(model.context, prefixed_model.context)"
    },
    {
      "cell_type": "markdown",
      "metadata": {},
      "source": "## Loose ends 2: FixedContext\n\nFinally, note that all of the above also applies to the interaction between `PrefixContext` and `FixedContext`, except that the functions have different names.\n(`FixedContext` behaves the same way as `ConditionContext`, except that unlike conditioned variables, fixed variables do not contribute to the log probability density.)\nThis generally results in a large amount of code duplication, but the concepts that underlie both contexts are exactly the same."
    }
  ],
  "metadata": {
    "kernelspec": {
      "display_name": "Julia",
      "language": "julia",
      "name": "julia"
    },
    "language_info": {
      "file_extension": ".jl",
      "mimetype": "application/julia",
      "name": "julia"
    }
  },
  "nbformat": 4,
  "nbformat_minor": 5
}