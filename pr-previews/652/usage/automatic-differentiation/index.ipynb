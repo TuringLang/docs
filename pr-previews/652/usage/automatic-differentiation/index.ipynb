{
  "cells": [
    {
      "cell_type": "code",
      "execution_count": null,
      "metadata": {},
      "outputs": [],
      "source": "using Pkg; Pkg.activate(; temp=true)\nPkg.add(\"ADTypes\")\nPkg.add(\"DynamicPPL.TestUtils.AD\")\nPkg.add(\"ForwardDiff\")\nPkg.add(\"ReverseDiff\")\nPkg.add(\"Turing\")"
    },
    {
      "cell_type": "markdown",
      "metadata": {},
      "source": "## What is Automatic Differentiation?\n\nAutomatic differentiation (AD) is a technique used in Turing.jl to evaluate the gradient of a function at a given set of arguments.\nIn the context of Turing.jl, the function being differentiated is the log probability density of a model, and the arguments are the parameters of the model (i.e. the values of the random variables).\nThe gradient of the log probability density is used by various algorithms in Turing.jl, such as HMC (including NUTS), mode estimation (which uses gradient-based optimization), and variational inference.\n\nThe Julia ecosystem has a number of AD libraries.\nYou can switch between these using the unified [ADTypes.jl](https://github.com/SciML/ADTypes.jl/) interface, which for a given AD backend, provides types such as `AutoBackend` (see [the documentation](https://docs.sciml.ai/ADTypes/stable/) for more details).\nFor example, to use the [Mooncake.jl](https://github.com/compintell/Mooncake.jl) package for AD, you can run the following:"
    },
    {
      "cell_type": "code",
      "execution_count": null,
      "metadata": {},
      "outputs": [],
      "source": "# Turing re-exports AutoForwardDiff, AutoReverseDiff, and AutoMooncake.\n# Other ADTypes must be explicitly imported from ADTypes.jl or\n# DifferentiationInterface.jl.\nusing Turing\nsetprogress!(false)\n\n# Note that if you specify a custom AD backend, you must also import it.\nimport Mooncake\n\n@model function f()\n    x ~ Normal()\n    # Rest of your model here\nend\n\nsample(f(), HMC(0.1, 5; adtype=AutoMooncake()), 100)"
    },
    {
      "cell_type": "markdown",
      "metadata": {},
      "source": "By default, if you do not specify a backend, Turing will default to [ForwardDiff.jl](https://github.com/JuliaDiff/ForwardDiff.jl).\nIn this case, you do not need to import ForwardDiff, as it is already a dependency of Turing.\n\n## Choosing an AD Backend\n\nThere are two aspects to choosing an AD backend: firstly, what backends are available; and secondly, which backend is best for your model.\n\n### Usable AD Backends\n\nTuring.jl uses the functionality in [DifferentiationInterface.jl](https://github.com/JuliaDiff/DifferentiationInterface.jl) ('DI') to interface with AD libraries in a unified way.\nIn principle, any AD library that DI provides an interface for can be used with Turing; you should consult the [DI documentation](https://juliadiff.org/DifferentiationInterface.jl/DifferentiationInterface/stable/) for an up-to-date list of compatible AD libraries.\n\nNote, however, that not all AD libraries in there are thoroughly tested on Turing models.\nThus, it is possible that some of them will either error (because they don't know how to differentiate through Turing's code), or maybe even silently give incorrect results (if you are very unlucky).\nTuring is most extensively tested with **ForwardDiff.jl** (the default), **ReverseDiff.jl**, and **Mooncake.jl**.\nWe also run a smaller set of tests with Enzyme.jl.\n\n### ADTests\n\nBefore describing how to choose the best AD backend for your model, we should mention that we also publish a table of benchmarks for various models and AD backends in [the ADTests website](https://turinglang.org/ADTests/).\nThese models aim to capture a variety of different features of Turing.jl and Julia in general, so that you can see which AD backends may be compatible with your model.\nBenchmarks are also included, although it should be noted that many of the models in ADTests are small and thus the timings may not be representative of larger, real-life models.\n\nIf you have suggestions for other models to include, please do let us know by [creating an issue on GitHub](https://github.com/TuringLang/ADTests/issues/new)!\n\n### The Best AD Backend for Your Model\n\nGiven the number of possible backends, how do you choose the best one for your model?\n\nA simple heuristic is to look at the number of parameters in your model.\nThe log density of the model, i.e. the function being differentiated, is a function that goes from $\\mathbb{R}^n \\to \\mathbb{R}$, where $n$ is the number of parameters in your model.\nFor models with a small number of parameters (say up to ~ 20), forward-mode AD (e.g. ForwardDiff) is generally faster due to a smaller overhead.\nOn the other hand, for models with a large number of parameters, reverse-mode AD (e.g. ReverseDiff or Mooncake) is generally faster as it computes the gradients with respect to all parameters in a single pass.\n\nThe most exact way to ensure you are using the fastest AD that works for your problem is to benchmark them using the functionality in DynamicPPL (see [the API documentation](https://turinglang.org/DynamicPPL.jl/stable/api/#AD-testing-and-benchmarking-utilities)):"
    },
    {
      "cell_type": "code",
      "execution_count": null,
      "metadata": {},
      "outputs": [],
      "source": "using ADTypes\nusing DynamicPPL.TestUtils.AD: run_ad, ADResult\nusing ForwardDiff, ReverseDiff\n\n@model function gdemo(x, y)\n    s² ~ InverseGamma(2, 3)\n    m ~ Normal(0, sqrt(s²))\n    x ~ Normal(m, sqrt(s²))\n    return y ~ Normal(m, sqrt(s²))\nend\nmodel = gdemo(1.5, 2)\n\nfor adtype in [AutoForwardDiff(), AutoReverseDiff()]\n    result = run_ad(model, adtype; benchmark=true)\n    @show result.grad_time / result.primal_time\nend"
    },
    {
      "cell_type": "markdown",
      "metadata": {},
      "source": "In this specific instance, ForwardDiff is clearly faster (due to the small size of the model).\n\n::: {.callout-note}\n## A note about ReverseDiff's `compile` argument\n\nThe additional keyword argument `compile=true` for `AutoReverseDiff` specifies whether to pre-record the tape only once and reuse it later.\nBy default, this is set to `false`, which means no pre-recording.\nSetting `compile=true` can substantially improve performance, but risks silently incorrect results if not used with care.\nPre-recorded tapes should only be used if you are absolutely certain that the sequence of operations performed in your code does not change between different executions of your model.\n:::\n\n## Compositional Sampling with Differing AD Modes\n\nWhen using Gibbs sampling, Turing also supports mixed automatic differentiation methods for different variable spaces.\nThe following snippet shows how one can use `ForwardDiff` to sample the mean (`m`) parameter, and `ReverseDiff` for the variance (`s`) parameter:"
    },
    {
      "cell_type": "code",
      "execution_count": null,
      "metadata": {},
      "outputs": [],
      "source": "using Turing\nusing ReverseDiff\n\n# Sample using Gibbs and varying autodiff backends.\nc = sample(\n    gdemo(1.5, 2),\n    Gibbs(\n        :m => HMC(0.1, 5; adtype=AutoForwardDiff()),\n        :s² => HMC(0.1, 5; adtype=AutoReverseDiff()),\n    ),\n    1000,\n    progress=false,\n)"
    }
  ],
  "metadata": {
    "kernelspec": {
      "display_name": "Julia",
      "language": "julia",
      "name": "julia"
    },
    "language_info": {
      "file_extension": ".jl",
      "mimetype": "application/julia",
      "name": "julia"
    }
  },
  "nbformat": 4,
  "nbformat_minor": 5
}