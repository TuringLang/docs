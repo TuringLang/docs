{
  "cells": [
    {
      "cell_type": "code",
      "execution_count": null,
      "metadata": {},
      "outputs": [],
      "source": "#| echo: false\n#| output: false\nusing Pkg;\nPkg.instantiate();"
    },
    {
      "cell_type": "markdown",
      "metadata": {},
      "source": "## Overview of PCA\n\nPrincipal component analysis (PCA) is a fundamental technique to analyse and visualise data.\nIt is an unsupervised learning method mainly used for dimensionality reduction.\n\nFor example, we have a data matrix $\\mathbf{X} \\in \\mathbb{R}^{N \\times D}$, and we would like to extract $k \\ll D$ principal components which captures most of the information from the original matrix.\nThe goal is to understand $\\mathbf{X}$ through a lower dimensional subspace (e.g. two-dimensional subspace for visualisation convenience) spanned by the principal components.\n\nIn order to project the original data matrix into low dimensions, we need to find the principal directions where most of the variations of $\\mathbf{X}$ lie in.\nTraditionally, this is implemented via [singular value decomposition (SVD)](https://en.wikipedia.org/wiki/Singular_value_decomposition) which provides a robust and accurate computational framework for decomposing matrix into products of rotation-scaling-rotation matrices, particularly for large datasets(see an illustration [here](https://intoli.com/blog/pca-and-svd/)):\n\n$$\n\\mathbf{X}_{N \\times D} =  \\mathbf{U}_{N \\times r} \\times \\boldsymbol{\\Sigma}_{r \\times r}  \\times  \\mathbf{V}^T_{r \\times D}\n$$\n\nwhere $\\Sigma_{r \\times r}$ contains only $r := \\operatorname{rank} \\mathbf{X} \\leq \\min\\{N,D\\}$ non-zero singular values of $\\mathbf{X}$.\nIf we pad $\\Sigma$ with zeros and add arbitrary orthonormal columns to $\\mathbf{U}$ and $\\mathbf{V}$, we obtain the more compact form:[^1]\n\n$$\n\\mathbf{X}_{N \\times D} = \\mathbf{U}_{N \\times N} \\mathbf{\\Sigma}_{N \\times D} \\mathbf{V}_{D \\times D}^T\n$$\n\nwhere $\\mathbf{U}$ and $\\mathbf{V}$ are unitary matrices (i.e. with orthonormal columns).\nSuch a decomposition always exists for any matrix.\nColumns of $\\mathbf{V}$ are the principal directions/axes.\nThe percentage of variations explained can be calculated using the ratios of singular values.[^3]\n\nHere we take a probabilistic perspective.\nFor more details and a mathematical derivation, we recommend Bishop's textbook (Christopher M. Bishop, Pattern Recognition and Machine Learning, 2006).\nThe idea of proabilistic PCA is to find a latent variable $z$ that can be used to describe the hidden structure in a dataset.[^2]\nConsider a data set $\\mathbf{X}_{D \\times N}=\\{x_i\\}$ with $i=1,2,...,N$ data points, where each data point $x_i$ is $D$-dimensional (i.e. $x_i \\in \\mathcal{R}^D$).\nNote that, here we use the flipped version of the data matrix. We aim to represent the original $n$ dimensional vector using a lower dimensional a latent variable $z_i \\in \\mathcal{R}^k$.\n\nWe first assume that each latent variable $z_i$ is normally distributed:\n\n$$\nz_i \\sim \\mathcal{N}(0, I)\n$$\n\nand the corresponding data point is generated via projection:\n\n$$\nx_i | z_i \\sim \\mathcal{N}(\\mathbf{W} z_i + \\boldsymbol{μ}, \\sigma^2 \\mathbf{I})\n$$\n\nwhere the projection matrix $\\mathbf{W}_{D \\times k}$ accommodates the principal axes.\nThe above formula expresses $x_i$ as a linear combination of the basis columns in the projection matrix `W`, where the combination coefficients sit in `z_i` (they are the coordinats of `x_i` in the new $k$-dimensional space.).\nWe can also express the above formula in matrix form: $\\mathbf{X}_{D \\times N} \\approx \\mathbf{W}_{D \\times k} \\mathbf{Z}_{k \\times N}$.\nWe are interested in inferring $\\mathbf{W}$, $μ$ and $\\sigma$.\n\nClassical PCA is the specific case of probabilistic PCA when the covariance of the noise becomes infinitesimally small, i.e. $\\sigma^2 \\to 0$.\nProbabilistic PCA generalizes classical PCA, this can be seen by marginalizing out the the latent variable.[^2]\n\n## The gene expression example\n\nIn the first example, we illustrate:\n\n  - how to specify the probabilistic model and\n  - how to perform inference on $\\mathbf{W}$, $\\boldsymbol{\\mu}$ and $\\sigma$ using MCMC.\n\nWe use simulated gemnome data to demonstrate these.\nThe simulation is inspired by biological measurement of expression of genes in cells, and each cell is characterized by different gene features.\nWhile the human genome is (mostly) identical between all the cells in the body, there exist interesting differences in gene expression in different human tissues and disease conditions.\nOne way to investigate certain diseases is to look at differences in gene expression in cells from patients and healthy controls (usually from the same tissue).\n\nUsually, we can assume that the changes in gene expression only affect a subset of all genes (and these can be linked to diseases in some way).\nOne of the challenges for this kind of data is to explore the underlying structure, e.g. to make the connection between a certain state (healthy/disease) and gene expression.\nThis becomes difficult when the dimensions is very large (up to 20000 genes across 1000s of cells). So in order to find structure in this data, it is useful to project the data into a lower dimensional space.\n\nRegardless of the biological background, the more abstract problem formulation is to project the data living in high-dimensional space onto a representation in lower-dimensional space where most of the variation is concentrated in the first few dimensions.\nWe use PCA to explore underlying structure or pattern which may not necessarily be obvious from looking at the raw data itself.\n\n#### Step 1: configuration of dependencies\n\nFirst, we load the dependencies used."
    },
    {
      "cell_type": "code",
      "execution_count": null,
      "metadata": {},
      "outputs": [],
      "source": "using Turing\nusing Mooncake\nusing LinearAlgebra, FillArrays\n\n# Packages for visualization\nusing DataFrames, StatsPlots, Measures\n\n# Set a seed for reproducibility.\nusing Random\nRandom.seed!(1789);"
    },
    {
      "cell_type": "markdown",
      "metadata": {},
      "source": "All packages used in this tutorial are listed here.\nYou can install them via `using Pkg; Pkg.add(\"package_name\")`.\n\n\n::: {.callout-caution}\n## Package usages:\nWe use `DataFrames` for instantiating matrices, `LinearAlgebra` and `FillArrays` to perform matrix operations;\n`Turing` for model specification and MCMC sampling, `Mooncake` for automatic differentiation when sampling.\n`StatsPlots` for visualising the resutls. `, Measures` for setting plot margin units.\nAs all examples involve sampling, for reproducibility we set a fixed seed using the `Random` standard library.\n:::\n\n#### Step 2: Data generation\n\nHere, we simulate the biological gene expression problem described earlier.\nWe simulate 60 cells, each cell has 9 gene features.\nThis is a simplified problem with only a few cells and genes for demonstration purpose, which is not comparable to the complexity in real-life (e.g. thousands of features for each individual).\nEven so, spotting the structures or patterns in a 9-feature space would be a challenging task; it would be nice to reduce the dimentionality using p-PCA.\n\nBy design, we mannually divide the 60 cells into two groups. the first 3 gene features of the first 30 cells have mean 10, while those of the last 30 cells have mean 10.\nThese two groups of cells differ in the expression of genes."
    },
    {
      "cell_type": "code",
      "execution_count": null,
      "metadata": {},
      "outputs": [],
      "source": "n_genes = 9 # D\nn_cells = 60 # N\n\n# create a diagonal block like expression matrix, with some non-informative genes;\n# not all features/genes are informative, some might just not differ very much between cells)\nmat_exp = randn(n_genes, n_cells)\nmat_exp[1:(n_genes ÷ 3), 1:(n_cells ÷ 2)] .+= 10\nmat_exp[(2 * (n_genes ÷ 3) + 1):end, (n_cells ÷ 2 + 1):end] .+= 10"
    },
    {
      "cell_type": "markdown",
      "metadata": {},
      "source": "To visualize the $(D=9) \\times (N=60)$ data matrix `mat_exp`, we use the `heatmap` plot."
    },
    {
      "cell_type": "code",
      "execution_count": null,
      "metadata": {},
      "outputs": [],
      "source": "heatmap(\n    mat_exp;\n    c=:summer,\n    colors=:value,\n    xlabel=\"cell number\",\n    yflip=true,\n    ylabel=\"gene feature\",\n    yticks=1:9,\n    colorbar_title=\"expression\",\n)"
    },
    {
      "cell_type": "markdown",
      "metadata": {},
      "source": "Note that:\n\n 1. We have made distinct feature differences between these two groups of cells (it is fairly obvious from looking at the raw data), in practice and with large enough data sets, it is often impossible to spot the differences from the raw data alone.\n 2. If you have some patience and compute resources you can increase the size of the dataset, or play around with the noise levels to make the problem increasingly harder.\n\n#### Step 3: Create the pPCA model\n\nHere we construct the probabilistic model `pPCA()`.\nAs per the p-PCA formula, we think of each row (i.e. each gene feature) following a $N=60$ dimensional multivariate normal distribution centered around the corresponding row of $\\mathbf{W}_{D \\times k} \\times \\mathbf{Z}_{k \\times N} + \\boldsymbol{\\mu}_{D \\times N}$."
    },
    {
      "cell_type": "code",
      "execution_count": null,
      "metadata": {},
      "outputs": [],
      "source": "@model function pPCA(X::AbstractMatrix{<:Real}, k::Int)\n    # retrieve the dimension of input matrix X.\n    N, D = size(X)\n\n    # weights/loadings W\n    W ~ filldist(Normal(), D, k)\n\n    # latent variable z\n    Z ~ filldist(Normal(), k, N)\n\n    # mean offset\n    μ ~ MvNormal(Eye(D))\n    genes_mean = W * Z .+ reshape(μ, n_genes, 1)\n    return X ~ arraydist([MvNormal(m, Eye(N)) for m in eachcol(genes_mean')])\nend;"
    },
    {
      "cell_type": "markdown",
      "metadata": {},
      "source": "The function `pPCA()` accepts:\n\n 1. an data array $\\mathbf{X}$ (with no. of instances x dimension no. of features, NB: it is a transpose of the original data matrix);\n 2. an integer $k$ which indicates the dimension of the latent space (the space the original feature matrix is projected onto).\n\nSpecifically:\n\n 1. it first extracts the dimension $D$ and number of instances $N$ of the input matrix;\n 2. draw samples of each entries of the projection matrix $\\mathbf{W}$ from a standard normal;\n 3. draw samples of the latent variable $\\mathbf{Z}_{k \\times N}$ from an MND;\n 4. draw samples of the offset $\\boldsymbol{\\mu}$ from an MND, assuming uniform offset for all instances;\n 5. Finally, we iterate through each gene dimension in $\\mathbf{X}$, and define an MND for the sampling distribution (i.e. likelihood).\n\n#### Step 4: Sampling-based inference of the pPCA model\n\nHere we aim to perform MCMC sampling to infer the projection matrix $\\mathbf{W}_{D \\times k}$, the latent variable matrix $\\mathbf{Z}_{k \\times N}$, and the offsets $\\boldsymbol{\\mu}_{N \\times 1}$.\n\nWe run the inference using the NUTS sampler.\nBy default, `sample` samples a single chain (in this case with 500 samples).\nYou can also use [different samplers]({{< meta usage-sampler-visualisation >}}) if you wish."
    },
    {
      "cell_type": "code",
      "execution_count": null,
      "metadata": {},
      "outputs": [],
      "source": "#| output: false\nsetprogress!(false)"
    },
    {
      "cell_type": "code",
      "execution_count": null,
      "metadata": {},
      "outputs": [],
      "source": "k = 2 # k is the dimension of the projected space, i.e. the number of principal components/axes of choice\nppca = pPCA(mat_exp', k) # instantiate the probabilistic model\nchain_ppca = sample(ppca, NUTS(; adtype=AutoMooncake()), 500);"
    },
    {
      "cell_type": "markdown",
      "metadata": {},
      "source": "The samples are saved in `chain_ppca`, which is an `MCMCChains.Chains` object.\nWe can check its shape:"
    },
    {
      "cell_type": "code",
      "execution_count": null,
      "metadata": {},
      "outputs": [],
      "source": "size(chain_ppca) # (no. of iterations, no. of vars, no. of chains) = (500, 159, 1)"
    },
    {
      "cell_type": "markdown",
      "metadata": {},
      "source": "Sampling statistics such as R-hat, ESS, mean estimates, and so on can also be obtained from this:"
    },
    {
      "cell_type": "code",
      "execution_count": null,
      "metadata": {},
      "outputs": [],
      "source": "describe(chain_ppca)"
    },
    {
      "cell_type": "markdown",
      "metadata": {},
      "source": "#### Step 5: posterior predictive checks\n\nWe try to reconstruct the input data using the posterior mean as parameter estimates.\nWe first retrieve the samples for the projection matrix `W` from `chain_ppca`. This can be done using the Julia `group(chain, parameter_name)` function.\nThen we calculate the mean value for each element in $W$, averaging over the whole chain of samples."
    },
    {
      "cell_type": "code",
      "execution_count": null,
      "metadata": {},
      "outputs": [],
      "source": "# Extract parameter estimates for predicting x - mean of posterior\nW = reshape(mean(group(chain_ppca, :W))[:, 2], (n_genes, k))\nZ = reshape(mean(group(chain_ppca, :Z))[:, 2], (k, n_cells))\nμ = mean(group(chain_ppca, :μ))[:, 2]\n\nmat_rec = W * Z .+ repeat(μ; inner=(1, n_cells))"
    },
    {
      "cell_type": "code",
      "execution_count": null,
      "metadata": {},
      "outputs": [],
      "source": "heatmap(\n    mat_rec;\n    c=:summer,\n    colors=:value,\n    xlabel=\"cell number\",\n    yflip=true,\n    ylabel=\"gene feature\",\n    yticks=1:9,\n    colorbar_title=\"expression\",\n)"
    },
    {
      "cell_type": "markdown",
      "metadata": {},
      "source": "We can quantitatively check the absolute magnitudes of the column average of the gap between `mat_exp` and `mat_rec`:"
    },
    {
      "cell_type": "code",
      "execution_count": null,
      "metadata": {},
      "outputs": [],
      "source": "diff_matrix = mat_exp .- mat_rec\nfor col in 4:6\n    @assert abs(mean(diff_matrix[:, col])) <= 0.5\nend"
    },
    {
      "cell_type": "markdown",
      "metadata": {},
      "source": "We observe that, using posterior mean, the recovered data matrix `mat_rec` has values align with the original data matrix - particularly the same pattern in the first and last 3 gene features are captured, which implies the inference and p-PCA decomposition are successful.\nThis is satisfying as we have just projected the original 9-dimensional space onto a 2-dimensional space - some info has been cut off in the projection process, but we haven't lost any important info, e.g. the key differences between the two groups.\nThe is the desirable property of PCA: it picks up the principal axes along which most of the (original) data variations cluster, and remove those less relevant.\nIf we choose the reduced space dimension $k$ to be exactly $D$ (the original data dimension), we would recover exactly the same original data matrix `mat_exp`, i.e. all information will be preserved.\n\nNow we have represented the original high-dimensional data in two dimensions, without lossing the key information about the two groups of cells in the input data.\nFinally, the benefits of performing PCA is to analyse and visualise the dimension-reduced data in the projected, low-dimensional space.\nwe save the dimension-reduced matrix $\\mathbf{Z}$ as a `DataFrame`, rename the columns and visualise the first two dimensions."
    },
    {
      "cell_type": "code",
      "execution_count": null,
      "metadata": {},
      "outputs": [],
      "source": "df_pca = DataFrame(Z', :auto)\nrename!(df_pca, Symbol.([\"z\" * string(i) for i in collect(1:k)]))\ndf_pca[!, :type] = repeat([1, 2]; inner=n_cells ÷ 2)\n\nscatter(df_pca[:, :z1], df_pca[:, :z2]; xlabel=\"z1\", ylabel=\"z2\", group=df_pca[:, :type])"
    },
    {
      "cell_type": "markdown",
      "metadata": {},
      "source": "We see the two groups are well separated in this 2-D space.\nAs an unsupervised learning method, performing PCA on this dataset gives membership for each cell instance.\nAnother way to put it: 2 dimensions is enough to capture the main structure of the data.\n\n#### Further extension: automatic choice of the number of principal components with ARD\n\nA direct question arises from above practice is: how many principal components do we want to keep, in order to sufficiently represent the latent structure in the data?\nThis is a very central question for all latent factor models, i.e. how many dimensions are needed to represent that data in the latent space.\nIn the case of PCA, there exist a lot of heuristics to make that choice.\nFor example, We can tune the number of principal components using empirical methods such as cross-validation based on some criteria such as MSE between the posterior predicted (e.g. mean predictions) data matrix and the original data matrix or the percentage of variation explained [^3].\n\nFor p-PCA, this can be done in an elegant and principled way, using a technique called *Automatic Relevance Determination* (ARD).\nARD can help pick the correct number of principal directions by regularizing the solution space using a parameterized, data-dependent prior distribution that effectively prunes away redundant or superfluous features [^4].\nEssentially, we are using a specific prior over the factor loadings $\\mathbf{W}$ that allows us to prune away dimensions in the latent space. The prior is determined by a precision hyperparameter $\\alpha$. Here, smaller values of $\\alpha$ correspond to more important components.\nYou can find more details about this in, for example, Bishop (2006) [^5]."
    },
    {
      "cell_type": "code",
      "execution_count": null,
      "metadata": {},
      "outputs": [],
      "source": "@model function pPCA_ARD(X)\n    # Dimensionality of the problem.\n    N, D = size(X)\n\n    # latent variable Z\n    Z ~ filldist(Normal(), D, N)\n\n    # weights/loadings w with Automatic Relevance Determination part\n    α ~ filldist(Gamma(1.0, 1.0), D)\n    W ~ filldist(MvNormal(zeros(D), 1.0 ./ sqrt.(α)), D)\n\n    mu = (W' * Z)'\n\n    tau ~ Gamma(1.0, 1.0)\n    return X ~ arraydist([MvNormal(m, 1.0 / sqrt(tau)) for m in eachcol(mu)])\nend;"
    },
    {
      "cell_type": "markdown",
      "metadata": {},
      "source": "Instead of drawing samples of each entry in $\\mathbf{W}$ from a standard normal, this time we repeatedly draw $D$ samples from the $D$-dimensional MND, forming a $D \\times D$ matrix $\\mathbf{W}$.\nThis matrix is a function of $\\alpha$ as the samples are drawn from the MND parameterized by $\\alpha$.\nWe also introduce a hyper-parameter $\\tau$ which is the precision in the sampling distribution.\nWe also re-paramterise the sampling distribution, i.e. each dimension across all instances is a 60-dimensional multivariate normal distribution. Re-parameterisation can sometimes accelrate the sampling process.\n\nWe instantiate the model and ask Turing to sample from it using NUTS sampler. The sample trajectories of $\\alpha$ is plotted using the `plot` function from the package `StatsPlots`."
    },
    {
      "cell_type": "code",
      "execution_count": null,
      "metadata": {},
      "outputs": [],
      "source": "ppca_ARD = pPCA_ARD(mat_exp') # instantiate the probabilistic model\nchain_ppcaARD = sample(ppca_ARD, NUTS(; adtype=AutoMooncake()), 500) # sampling\nplot(group(chain_ppcaARD, :α); margin=6.0mm)"
    },
    {
      "cell_type": "markdown",
      "metadata": {},
      "source": "Again, we do some inference diagnostics.\nHere we look at the convergence of the chains for the $α$ parameter.\nThis parameter determines the relevance of individual components.\nWe see that the chains have converged and the posterior of the $\\alpha$ parameters is centered around much smaller values in two instances.\nIn the following, we will use the mean of the small values to select the *relevant* dimensions (remember that, smaller values of $\\alpha$ correspond to more important components.).\nWe can clearly see from the values of $\\alpha$ that there should be two dimensions (corresponding to $\\bar{\\alpha}_3=\\bar{\\alpha}_5≈0.05$) for this dataset."
    },
    {
      "cell_type": "code",
      "execution_count": null,
      "metadata": {},
      "outputs": [],
      "source": "# Extract parameter mean estimates of the posterior\nW = permutedims(reshape(mean(group(chain_ppcaARD, :W))[:, 2], (n_genes, n_genes)))\nZ = permutedims(reshape(mean(group(chain_ppcaARD, :Z))[:, 2], (n_genes, n_cells)))'\nα = mean(group(chain_ppcaARD, :α))[:, 2]\nplot(α; label=\"α\")"
    },
    {
      "cell_type": "markdown",
      "metadata": {},
      "source": "We can inspect `α` to see which elements are small (i.e. high relevance).\nTo do this, we first sort `α` using `sortperm()` (in ascending order by default), and record the indices of the first two smallest values (among the $D=9$ $\\alpha$ values).\nAfter picking the desired principal directions, we extract the corresponding subset loading vectors from $\\mathbf{W}$, and the corresponding dimensions of $\\mathbf{Z}$.\nWe obtain a posterior predicted matrix $\\mathbf{X} \\in \\mathbb{R}^{2 \\times 60}$ as the product of the two sub-matrices, and compare the recovered info with the original matrix."
    },
    {
      "cell_type": "code",
      "execution_count": null,
      "metadata": {},
      "outputs": [],
      "source": "α_indices = sortperm(α)[1:2]\nk = size(α_indices)[1]\nX_rec = W[:, α_indices] * Z[α_indices, :]\n\ndf_rec = DataFrame(X_rec', :auto)\nheatmap(\n    X_rec;\n    c=:summer,\n    colors=:value,\n    xlabel=\"cell number\",\n    yflip=true,\n    ylabel=\"gene feature\",\n    yticks=1:9,\n    colorbar_title=\"expression\",\n)"
    },
    {
      "cell_type": "markdown",
      "metadata": {},
      "source": "We observe that, the data in the original space is recovered with key information, the distinct feature values in the first and last three genes for the two cell groups, are preserved.\nWe can also examine the data in the dimension-reduced space, i.e. the selected components (rows) in $\\mathbf{Z}$."
    },
    {
      "cell_type": "code",
      "execution_count": null,
      "metadata": {},
      "outputs": [],
      "source": "df_pro = DataFrame(Z[α_indices, :]', :auto)\nrename!(df_pro, Symbol.([\"z\" * string(i) for i in collect(1:k)]))\ndf_pro[!, :type] = repeat([1, 2]; inner=n_cells ÷ 2)\nscatter(\n    df_pro[:, 1], df_pro[:, 2]; xlabel=\"z1\", ylabel=\"z2\", color=df_pro[:, \"type\"], label=\"\"\n)"
    },
    {
      "cell_type": "markdown",
      "metadata": {},
      "source": "This plot is very similar to the low-dimensional plot above, with the *relevant* dimensions chosen based on the values of $α$ via ARD.\nWhen you are in doubt about the number of dimensions to project onto, ARD might provide an answer to that question.\n\n## Final comments.\n\np-PCA is a linear map which linearly transforms the data between the original and projected spaces.\nIt can also thought as a matrix factorisation method, in which $\\mathbf{X}=(\\mathbf{W} \\times \\mathbf{Z})^T$. The projection matrix can be understood as a new basis in the projected space, and $\\mathbf{Z}$ are the new coordinates.\n\n\n[^1]: Gilbert Strang, *Introduction to Linear Algebra*, 5th Ed., Wellesley-Cambridge Press, 2016.\n[^2]: Probabilistic PCA by TensorFlow, \"https://www.tensorflow.org/probability/examples/Probabilistic_PCA\".\n[^3]: Gareth M. James, Daniela Witten, Trevor Hastie, Robert Tibshirani, *An Introduction to Statistical Learning*, Springer, 2013.\n[^4]: David Wipf, Srikantan Nagarajan, *A New View of Automatic Relevance Determination*, NIPS 2007.\n[^5]: Christopher Bishop, *Pattern Recognition and Machine Learning*, Springer, 2006."
    }
  ],
  "metadata": {
    "kernelspec": {
      "display_name": "Julia 1.11",
      "language": "julia",
      "name": "julia-1.11"
    },
    "language_info": {
      "file_extension": ".jl",
      "mimetype": "application/julia",
      "name": "julia",
      "version": "1.11.0"
    }
  },
  "nbformat": 4,
  "nbformat_minor": 5
}