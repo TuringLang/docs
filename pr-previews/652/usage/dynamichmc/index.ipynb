{
  "cells": [
    {
      "cell_type": "markdown",
      "metadata": {},
      "source": [
        "---\n",
        "title: Using DynamicHMC\n",
        "engine: julia\n",
        "aliases:\n",
        " - ../../tutorials/docs-11-using-turing-dynamichmc/index.html\n",
        "---\n",
        "\n",
        "```{julia}\n",
        "#| echo: false\n",
        "#| output: false\n",
        "using Pkg;\n",
        "Pkg.instantiate();\n",
        "```\n",
        "\n",
        "Turing supports the use of [DynamicHMC](https://github.com/tpapp/DynamicHMC.jl) as a sampler through the `DynamicNUTS` function.\n",
        "\n",
        "To use the `DynamicNUTS` function, you must import the `DynamicHMC` package as well as Turing. Turing does not formally require `DynamicHMC` but will include additional functionality if both packages are present.\n",
        "\n",
        "Here is a brief example:\n",
        "\n",
        "### How to apply `DynamicNUTS`:\n",
        "\n",
        "```{julia}\n",
        "# Import Turing and DynamicHMC.\n",
        "using DynamicHMC, Turing\n",
        "\n",
        "# Model definition.\n",
        "@model function gdemo(x, y)\n",
        "    s² ~ InverseGamma(2, 3)\n",
        "    m ~ Normal(0, sqrt(s²))\n",
        "    x ~ Normal(m, sqrt(s²))\n",
        "    return y ~ Normal(m, sqrt(s²))\n",
        "end\n",
        "\n",
        "# Pull 2,000 samples using DynamicNUTS.\n",
        "dynamic_nuts = externalsampler(DynamicHMC.NUTS())\n",
        "chn = sample(gdemo(1.5, 2.0), dynamic_nuts, 2000, progress=false)\n",
        "```"
      ]
    }
  ],
  "metadata": {
    "kernelspec": {
      "display_name": "Python 3",
      "language": "python",
      "name": "python3"
    }
  },
  "nbformat": 4,
  "nbformat_minor": 4
}