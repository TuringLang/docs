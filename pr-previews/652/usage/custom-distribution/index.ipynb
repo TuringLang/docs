{
  "cells": [
    {
      "cell_type": "code",
      "execution_count": null,
      "metadata": {},
      "outputs": [],
      "source": "#| echo: false\n#| output: false\nusing Pkg;\nPkg.instantiate();"
    },
    {
      "cell_type": "markdown",
      "metadata": {},
      "source": "`Turing.jl` supports the use of distributions from the Distributions.jl package.\nBy extension, it also supports the use of customized distributions by defining them as subtypes of `Distribution` type of the Distributions.jl package, as well as corresponding functions.\n\nThis page shows a workflow of how to define a customized distribution, using our own implementation of a simple `Uniform` distribution as a simple example."
    },
    {
      "cell_type": "code",
      "execution_count": null,
      "metadata": {},
      "outputs": [],
      "source": "#| output: false\nusing Distributions, Turing, Random, Bijectors"
    },
    {
      "cell_type": "markdown",
      "metadata": {},
      "source": "## Define the Distribution Type\n\nFirst, define a type of the distribution, as a subtype of a corresponding distribution type in the Distributions.jl package."
    },
    {
      "cell_type": "code",
      "execution_count": null,
      "metadata": {},
      "outputs": [],
      "source": "struct CustomUniform <: ContinuousUnivariateDistribution end"
    },
    {
      "cell_type": "markdown",
      "metadata": {},
      "source": "## Implement Sampling and Evaluation of the log-pdf\n\nSecond, implement the `rand` and `logpdf` functions for your new distribution, which will be used to run the model."
    },
    {
      "cell_type": "code",
      "execution_count": null,
      "metadata": {},
      "outputs": [],
      "source": "# sample in [0, 1]\nDistributions.rand(rng::AbstractRNG, d::CustomUniform) = rand(rng)\n\n# p(x) = 1 → log[p(x)] = 0\nDistributions.logpdf(d::CustomUniform, x::Real) = zero(x)"
    },
    {
      "cell_type": "markdown",
      "metadata": {},
      "source": "## Define Helper Functions\n\nIn most cases, it may be required to define some helper functions.\n\n### Domain Transformation\n\nCertain samplers, such as `HMC`, require the domain of the priors to be unbounded.\nTherefore, to use our `CustomUniform` as a prior in a model we also need to define how to transform samples from `[0, 1]` to `ℝ`.\nTo do this, we need to define the corresponding `Bijector` from `Bijectors.jl`, which is what `Turing.jl` uses internally to deal with constrained distributions.\n\nTo transform from `[0, 1]` to `ℝ` we can use the `Logit` bijector:"
    },
    {
      "cell_type": "code",
      "execution_count": null,
      "metadata": {},
      "outputs": [],
      "source": "Bijectors.bijector(d::CustomUniform) = Logit(0.0, 1.0)"
    },
    {
      "cell_type": "markdown",
      "metadata": {},
      "source": "In the present example, `CustomUniform` is a subtype of `ContinuousUnivariateDistribution`.\nThe procedure for subtypes of `ContinuousMultivariateDistribution` and `ContinuousMatrixDistribution` is exactly the same.\nFor example, `Wishart` defines a distribution over positive-definite matrices and so `bijector` returns a `PDBijector` when called with a `Wishart` distribution as an argument.\nFor discrete distributions, there is no need to define a bijector; the `Identity` bijector is used by default.\n\nAs an alternative to the above, for `UnivariateDistribution` we could define the `minimum` and `maximum` of the distribution:"
    },
    {
      "cell_type": "code",
      "execution_count": null,
      "metadata": {},
      "outputs": [],
      "source": "Distributions.minimum(d::CustomUniform) = 0.0\nDistributions.maximum(d::CustomUniform) = 1.0"
    },
    {
      "cell_type": "markdown",
      "metadata": {},
      "source": "and `Bijectors.jl` will return a default `Bijector` called `TruncatedBijector` which makes use of `minimum` and `maximum` derive the correct transformation.\n\nInternally, Turing basically does the following when it needs to convert a constrained distribution to an unconstrained distribution, e.g. when sampling using `HMC`:"
    },
    {
      "cell_type": "code",
      "execution_count": null,
      "metadata": {},
      "outputs": [],
      "source": "dist = Gamma(2,3)\nb = bijector(dist)\ntransformed_dist = transformed(dist, b) # results in distribution with transformed support + correction for logpdf"
    },
    {
      "cell_type": "markdown",
      "metadata": {},
      "source": "and then we can call `rand` and `logpdf` as usual, where\n\n  - `rand(transformed_dist)` returns a sample in the unconstrained space, and\n  - `logpdf(transformed_dist, y)` returns the log density of the original distribution, but with `y` living in the unconstrained space.\n\nTo read more about Bijectors.jl, check out [its documentation](https://turinglang.org/Bijectors.jl/stable/)."
    }
  ],
  "metadata": {
    "kernelspec": {
      "display_name": "Julia 1.11",
      "language": "julia",
      "name": "julia-1.11"
    },
    "language_info": {
      "file_extension": ".jl",
      "mimetype": "application/julia",
      "name": "julia",
      "version": "1.11.0"
    }
  },
  "nbformat": 4,
  "nbformat_minor": 5
}