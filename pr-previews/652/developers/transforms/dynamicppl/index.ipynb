{
  "cells": [
    {
      "cell_type": "code",
      "execution_count": null,
      "metadata": {},
      "outputs": [],
      "source": "using Pkg; Pkg.activate(; temp=true)"
    },
    {
      "cell_type": "markdown",
      "metadata": {},
      "source": "In the final part of this chapter, we'll discuss the higher-level implications of constrained distributions in the Turing.jl framework.\n\n## Linked and unlinked VarInfos in DynamicPPL"
    },
    {
      "cell_type": "code",
      "execution_count": null,
      "metadata": {},
      "outputs": [],
      "source": "import Random\nRandom.seed!(468);\n\n# Turing re-exports the entirety of Distributions\nusing Turing"
    },
    {
      "cell_type": "markdown",
      "metadata": {},
      "source": "When we are performing Bayesian inference, we're trying to sample from a joint probability distribution, which isn't usually a single, well-defined distribution like in the rather simplified example above.\nHowever, each random variable in the model will have its own distribution, and often some of these will be constrained.\nFor example, if `b ~ LogNormal()` is a random variable in a model, then $p(b)$ will be zero for any $b \\leq 0$.\nConsequently, any joint probability $p(b, c, \\ldots)$ will also be zero for any combination of parameters where $b \\leq 0$, and so that joint distribution is itself constrained.\n\nTo get around this, DynamicPPL allows the variables to be transformed in exactly the same way as above.\nFor simplicity, consider the following model:"
    },
    {
      "cell_type": "code",
      "execution_count": null,
      "metadata": {},
      "outputs": [],
      "source": "using DynamicPPL\n\n@model function demo()\n    x ~ LogNormal()\nend\n\nmodel = demo()\nvi = VarInfo(model)\nvn_x = @varname(x)\n# Retrieve the 'internal' representation of x – we'll explain this later\nDynamicPPL.getindex_internal(vi, vn_x)"
    },
    {
      "cell_type": "markdown",
      "metadata": {},
      "source": "The call to `VarInfo` executes the model once and stores the sampled value inside `vi`.\nBy default, `VarInfo` itself stores un-transformed values.\nWe can see this by comparing the value of the logpdf stored inside the `VarInfo`:"
    },
    {
      "cell_type": "code",
      "execution_count": null,
      "metadata": {},
      "outputs": [],
      "source": "DynamicPPL.getlogp(vi)"
    },
    {
      "cell_type": "markdown",
      "metadata": {},
      "source": "with a manual calculation:"
    },
    {
      "cell_type": "code",
      "execution_count": null,
      "metadata": {},
      "outputs": [],
      "source": "logpdf(LogNormal(), DynamicPPL.getindex_internal(vi, vn_x))"
    },
    {
      "cell_type": "markdown",
      "metadata": {},
      "source": "In DynamicPPL, the `link` function can be used to transform the variables.\nThis function does three things: firstly, it transforms the variables; secondly, it updates the value of logp (by adding the Jacobian term); and thirdly, it sets a flag on the variables to indicate that it has been transformed.\nNote that this acts on _all_ variables in the model, including unconstrained ones.\n(Unconstrained variables just have an identity transformation.)"
    },
    {
      "cell_type": "code",
      "execution_count": null,
      "metadata": {},
      "outputs": [],
      "source": "vi_linked = DynamicPPL.link(vi, model)\nprintln(\"Transformed value: $(DynamicPPL.getindex_internal(vi_linked, vn_x))\")\nprintln(\"Transformed logp: $(DynamicPPL.getlogp(vi_linked))\")\nprintln(\"Transformed flag: $(DynamicPPL.istrans(vi_linked, vn_x))\")"
    },
    {
      "cell_type": "markdown",
      "metadata": {},
      "source": "Indeed, we can see that the new logp value matches with"
    },
    {
      "cell_type": "code",
      "execution_count": null,
      "metadata": {},
      "outputs": [],
      "source": "logpdf(Normal(), DynamicPPL.getindex_internal(vi_linked, vn_x))"
    },
    {
      "cell_type": "markdown",
      "metadata": {},
      "source": "The reverse transformation, `invlink`, reverts all of the above steps:"
    },
    {
      "cell_type": "code",
      "execution_count": null,
      "metadata": {},
      "outputs": [],
      "source": "vi = DynamicPPL.invlink(vi_linked, model)  # Same as the previous vi\nprintln(\"Un-transformed value: $(DynamicPPL.getindex_internal(vi, vn_x))\")\nprintln(\"Un-transformed logp: $(DynamicPPL.getlogp(vi))\")\nprintln(\"Un-transformed flag: $(DynamicPPL.istrans(vi, vn_x))\")"
    },
    {
      "cell_type": "markdown",
      "metadata": {},
      "source": "### Model and internal representations\n\nIn DynamicPPL, there is a difference between the value of a random variable and its 'internal' value.\nThis is most easily seen by first transforming, and then comparing the output of `getindex` and `getindex_internal`.\nThe former extracts the regular value, which we call the **model representation** (because it is consistent with the distribution specified in the model).\nThe latter, as the name suggests, gets the **internal representation** of the variable, which is how it is actually stored in the VarInfo object."
    },
    {
      "cell_type": "code",
      "execution_count": null,
      "metadata": {},
      "outputs": [],
      "source": "println(\"   Model representation: $(getindex(vi_linked, vn_x))\")\nprintln(\"Internal representation: $(DynamicPPL.getindex_internal(vi_linked, vn_x))\")"
    },
    {
      "cell_type": "markdown",
      "metadata": {},
      "source": "::: {.callout-note}\nNote that `vi_linked[vn_x]` can also be used as shorthand for `getindex(vi_linked, vn_x)`; this usage is common in the DynamicPPL/Turing codebase.\n:::\n\nWe can see (for this linked varinfo) that there are _two_ differences between these outputs:\n\n1. _The internal representation has been transformed using the bijector (in this case, the log function)._\n   This means that the `istrans()` flag which we used above doesn't modify the model representation: it only tells us whether the internal representation has been transformed or not.\n\n2. _The internal representation is a vector, whereas the model representation is a scalar._\n   This is because in DynamicPPL, _all_ internal values are vectorised (i.e. converted into some vector), regardless of distribution. On the other hand, since the model specifies a univariate distribution, the model representation is a scalar.\n\nOne might also ask, what is the internal representation for an _unlinked_ varinfo?"
    },
    {
      "cell_type": "code",
      "execution_count": null,
      "metadata": {},
      "outputs": [],
      "source": "println(\"   Model representation: $(getindex(vi, vn_x))\")\nprintln(\"Internal representation: $(DynamicPPL.getindex_internal(vi, vn_x))\")"
    },
    {
      "cell_type": "markdown",
      "metadata": {},
      "source": "For an unlinked VarInfo, the internal representation is vectorised, but not transformed.\nWe call this an **unlinked internal representation**; conversely, when the VarInfo has been linked, each variable will have a corresponding **linked internal representation**.\n\nThis sequence of events is summed up in the following diagram, where `f(..., args)` indicates that the `...` is to be replaced with the object at the beginning of the arrow:\n\n![Functions related to variable transforms in DynamicPPL](./dynamicppl_link.png)\n\nIn the final part of this article, we'll take a more in-depth look at the internal DynamicPPL machinery that allows us to convert between representations and obtain the correct probability densities.\nBefore that, though, we'll take a quick high-level look at how the HMC sampler in Turing.jl uses the functions introduced so far.\n\n## Case study: HMC in Turing.jl\n\nWhile DynamicPPL provides the _functionality_ for transforming variables, the transformation itself happens at an even higher level, i.e. in the sampler itself.\nThe HMC sampler in Turing.jl is in [this file](https://github.com/TuringLang/Turing.jl/blob/5b24cebe773922e0f3d5c4cb7f53162eb758b04d/src/mcmc/hmc.jl).\nIn the first step of sampling, it calls `link` on the sampler.\nThis transformation is preserved throughout the sampling process, meaning that `istrans()` always returns true.\n\nWe can observe this by inserting print statements into the model.\nHere, `__varinfo__` is the internal symbol for the `VarInfo` object used in model evaluation:"
    },
    {
      "cell_type": "code",
      "execution_count": null,
      "metadata": {},
      "outputs": [],
      "source": "setprogress!(false)\n\n@model function demo2()\n    x ~ LogNormal()\n    if x isa AbstractFloat\n        println(\"-----------\")\n        println(\"model repn: $(DynamicPPL.getindex(__varinfo__, @varname(x)))\")\n        println(\"internal repn: $(DynamicPPL.getindex_internal(__varinfo__, @varname(x)))\")\n        println(\"istrans: $(istrans(__varinfo__, @varname(x)))\")\n    end\nend\n\nsample(demo2(), HMC(0.1, 3), 3);"
    },
    {
      "cell_type": "markdown",
      "metadata": {},
      "source": "(Here, the check on `if x isa AbstractFloat` prevents the printing from occurring during computation of the derivative.)\nYou can see that during the three sampling steps, `istrans` is always kept as `true`.\n\n::: {.callout-note}\nThe first two model evaluations where `istrans` is `false` occur prior to the actual sampling.\nOne occurs when the model is checked for correctness (using [`DynamicPPL.check_model_and_trace`](https://github.com/TuringLang/DynamicPPL.jl/blob/ba490bf362653e1aaefe298364fe3379b60660d3/src/debug_utils.jl#L582-L612)).\nThe second occurs because the model is evaluated once to generate a set of initial parameters inside [DynamicPPL's implementation of `AbstractMCMC.step`](https://github.com/TuringLang/DynamicPPL.jl/blob/ba490bf362653e1aaefe298364fe3379b60660d3/src/sampler.jl#L98-L117).\nBoth of these steps occur with all samplers in Turing.jl, so are not specific to the HMC example shown here.\n:::\n\nWhat this means is that from the perspective of the HMC sampler, it _never_ sees the constrained variable: it always thinks that it is sampling from an unconstrained distribution.\n\nThe biggest prerequisite for this to work correctly is that the potential energy term in the Hamiltonian—or in other words, the model log density—must be programmed correctly to include the Jacobian term.\nThis is exactly the same as how we had to make sure to define `logq(y)` correctly in the toy HMC example above.\n\nWithin Turing.jl, this is correctly handled because a statement like `x ~ LogNormal()` in the model definition above is translated into `assume(LogNormal(), @varname(x), __varinfo__)`, defined [here](https://github.com/TuringLang/DynamicPPL.jl/blob/ba490bf362653e1aaefe298364fe3379b60660d3/src/context_implementations.jl#L225-L229).\nIf you follow the trail of function calls, you can verify that the `assume` function does indeed check for the presence of the `istrans` flag and adds the Jacobian term accordingly.\n\n## A deeper dive into DynamicPPL's internal machinery\n\nAs described above, DynamicPPL stores a (possibly linked) _internal representation_ which is accessible via `getindex_internal`, but can also provide users with the original, untransformed, _model representation_ via `getindex`.\nThis abstraction allows the user to obtain samples from constrained distributions without having to perform the transformation themselves.\n\n![More functions related to variable transforms in DynamicPPL](./dynamicppl_link2.png)\n\nThe conversion between these representations is done using several internal functions in DynamicPPL, as depicted in the above diagram.\nThe following operations are labelled:\n\n1. This is linking, i.e. transforming a constrained variable to an unconstrained one.\n\n2. This is vectorisation: for example, converting a scalar value to a 1-element vector.\n\n3. This arrow brings us from the model representation to the linked internal representation.\n   This is the composition of (1) and (2): linking and then vectorising.\n\n4. This arrow brings us from the model representation to the unlinked internal representation.\n   This only requires a single step, vectorisation.\n\nEach of these steps can be accomplished using the following functions.\n\n|     | To get the function | To get the inverse function |\n| --- | ------------------- | --------------------------- |\n| (1) | `link_transform(dist)` | `invlink_transform(dist)` |\n| (2) | `to_vec_transform(dist)` | `from_vec_transform(dist)` |\n| (3) | `to_linked_internal_transform(vi, vn[, dist])` | `from_linked_internal_transform(vi, vn[, dist])` |\n| (4) | `to_internal_transform(vi, vn[, dist])` | `from_internal_transform(vi, vn[, dist])` |\n\nNote that these functions do not perform the actual transformation; rather, they return the transformation function itself.\nFor example, let's take a look at the `VarInfo` from the previous section, which contains a single variable `x ~ LogNormal()`."
    },
    {
      "cell_type": "code",
      "execution_count": null,
      "metadata": {},
      "outputs": [],
      "source": "model_repn = vi[vn_x]"
    },
    {
      "cell_type": "code",
      "execution_count": null,
      "metadata": {},
      "outputs": [],
      "source": "# (1) Get the link function\nf_link = DynamicPPL.link_transform(LogNormal())\n# (2) Get the vectorise function\nf_vec = DynamicPPL.to_vec_transform(LogNormal())\n\n# Apply it to the model representation\nlinked_internal_repn = f_vec(f_link(model_repn))"
    },
    {
      "cell_type": "markdown",
      "metadata": {},
      "source": "Equivalently, we could have done:"
    },
    {
      "cell_type": "code",
      "execution_count": null,
      "metadata": {},
      "outputs": [],
      "source": "# (3) Get the linked internal transform function\nf_linked_internal = DynamicPPL.to_linked_internal_transform(vi, vn_x, LogNormal())\n\n# Apply it to the model representation\nlinked_internal_repn = f_linked_internal(model_repn)"
    },
    {
      "cell_type": "markdown",
      "metadata": {},
      "source": "And let's confirm that this is the same as the linked internal representation, using the `VarInfo` that we linked earlier:"
    },
    {
      "cell_type": "code",
      "execution_count": null,
      "metadata": {},
      "outputs": [],
      "source": "DynamicPPL.getindex_internal(vi_linked, vn_x)"
    },
    {
      "cell_type": "markdown",
      "metadata": {},
      "source": "The purpose of having all of these machinery is to allow other parts of DynamicPPL, such as the tilde pipeline, to handle transformed variables correctly.\nThe following diagram shows how `assume` first checks whether the variable is transformed (using `istrans`), and then applies the appropriate transformation function.\n\n<!-- 'wrappingWidth' setting required because of https://github.com/mermaid-js/mermaid-cli/issues/112#issuecomment-2352670995 -->"
    },
    {
      "cell_type": "markdown",
      "metadata": {},
      "source": "```mermaid\n%%| echo: false\n\n%%{ init: { 'themeVariables': { 'lineColor': '#000000' } } }%%\n%%{ init: { 'flowchart': { 'curve': 'linear', 'wrappingWidth': -1 } } }%%\ngraph TD\n    A[\"x ~ LogNormal()\"]:::boxStyle\n    B[\"vn = <span style='color:#3B6EA8 !important;'>@varname</span>(x)<br>dist = LogNormal()<br>x, vi = ...\"]:::boxStyle\n    C[\"assume(vn, dist, vi)\"]:::boxStyle\n    D([\"<span style='color:#3B6EA8 !important;'>if</span> istrans(vi, vn)\"]):::boxStyle\n    E[\"f = from_internal_transform(vi, vn, dist)\"]:::boxStyle\n    F[\"f = from_linked_internal_transform(vi, vn, dist)\"]:::boxStyle\n    G[\"x, logjac = with_logabsdet_jacobian(f, getindex_internal(vi, vn, dist))\"]:::boxStyle\n    H[\"<span style='color:#3B6EA8 !important;'>return</span> x, logpdf(dist, x) - logjac, vi\"]:::boxStyle\n    \n    A -.->|<span style='color:#3B6EA8 ; background-color:#ffffff;'>@model</span>| B\n    B -.->|<span style='color:#000000 ; background-color:#ffffff;'>tilde-pipeline</span>| C\n    C --> D\n    D -->|<span style='color:#97365B ; background-color:#ffffff;'>false</span>| E\n    D -->|<span style='color:#97365B ; background-color:#ffffff;'>true</span>| F\n    E --> G\n    F --> G\n    G --> H\n\n    classDef boxStyle fill:#ffffff,stroke:#000000,font-family:Courier,color:#000000\n    linkStyle default stroke:#000000,stroke-width:1px,color:#000000\n```"
    },
    {
      "cell_type": "markdown",
      "metadata": {},
      "source": "Here, `with_logabsdet_jacobian` is defined [in the ChangesOfVariables.jl package](https://juliamath.github.io/ChangesOfVariables.jl/stable/api/#ChangesOfVariables.with_logabsdet_jacobian), and returns both the effect of the transformation `f` as well as the log Jacobian term.\n\nBecause we chose `f` appropriately, we find here that `x` is always the model representation; furthermore, if the variable was _not_ linked (i.e. `istrans` was false), the log Jacobian term will be zero.\nHowever, if it was linked, then the Jacobian term would be appropriately included, making sure that sampling proceeds correctly.\n\n## Why do we need to do this at runtime?\n\nGiven that we know whether a `VarInfo` is linked or not, one might wonder why we need both `from_internal_transform` and `from_linked_internal_transform` at the point where the model is evaluated.\nCould we not, for example, store the required transformation inside the `VarInfo` when we link it, and simply reuse that each time?\n\nThat is, why can't we just do"
    },
    {
      "cell_type": "markdown",
      "metadata": {},
      "source": "```mermaid\n%%| echo: false\n%%| fig-width: 5\n\n%%{ init: { 'flowchart': { 'curve': 'linear', 'wrappingWidth': -1 } } }%%\n%%{ init: { 'themeVariables': { 'lineColor': '#000000' } } }%%\ngraph TD\n      A[\"assume(varinfo, <span style='color:#3B6EA8 !important;'>@varname</span>(x), Normal())\"]:::boxStyle\n      B[\"f = from_internal_transform(varinfo, varname, dist)\"]:::boxStyle\n      C[\"x, logjac = with_logabsdet_jacobian(f, getindex_internal(varinfo, varname))\"]:::boxStyle\n      D[\"<span style='color:#3B6EA8 !important;'>return</span> x, logpdf(dist, x) - logjac, varinfo\"]:::dashedBox\n      \n      A --> B\n      B --> C\n      C --> D\n\n    classDef dashedBox fill:#ffffff,stroke:#000000,stroke-dasharray: 5 5,font-family:Courier,color:#000000\n    classDef boxStyle fill:#ffffff,stroke:#000000,font-family:Courier,color:#000000\n\n    linkStyle default stroke:#000000,stroke-width:1px,color:#000000\n```"
    },
    {
      "cell_type": "markdown",
      "metadata": {},
      "source": "where `from_internal_transform` here only looks up a stored transformation function?\n\nUnfortunately, this is not possible in general, because the transformation function might not be a constant between different model evaluations.\nConsider, for example, the following model:"
    },
    {
      "cell_type": "code",
      "execution_count": null,
      "metadata": {},
      "outputs": [],
      "source": "@model function demo_dynamic_constraint()\n    m ~ Normal()\n    x ~ truncated(Normal(); lower=m)\n    return (m=m, x=x)\nend"
    },
    {
      "cell_type": "markdown",
      "metadata": {},
      "source": "Here, `m` is distributed according to a plain `Normal()`, whereas the variable `x` is constrained to be in the domain `(m, Inf)`.\nBecause of this, we expect that any time we sample from the model, we should have that `m < x` (in terms of their model representations):"
    },
    {
      "cell_type": "code",
      "execution_count": null,
      "metadata": {},
      "outputs": [],
      "source": "model = demo_dynamic_constraint()\nvi = VarInfo(model)\nvn_m, vn_x = @varname(m), @varname(x)\n\nvi[vn_m], vi[vn_x]"
    },
    {
      "cell_type": "markdown",
      "metadata": {},
      "source": "(Note that `vi[vn]` is a shorthand for `getindex(vi, vn)`, so this retrieves the model representations of `m` and `x`.)\nSo far, so good.\nLet's now link this `VarInfo` so that we end up working in an 'unconstrained' space, where both `m` and `x` can take on any values in `(-Inf, Inf)`.\nFirst, we should check that the model representations are unchanged when linking:"
    },
    {
      "cell_type": "code",
      "execution_count": null,
      "metadata": {},
      "outputs": [],
      "source": "vi_linked = link(vi, model)\nvi_linked[vn_m], vi_linked[vn_x]"
    },
    {
      "cell_type": "markdown",
      "metadata": {},
      "source": "But if we change the value of `m`, to, say, a bit larger than `x`:"
    },
    {
      "cell_type": "code",
      "execution_count": null,
      "metadata": {},
      "outputs": [],
      "source": "# Update the model representation for `m` in `vi_linked`.\nvi_linked[vn_m] = vi_linked[vn_x] + 1\nvi_linked[vn_m], vi_linked[vn_x]"
    },
    {
      "cell_type": "markdown",
      "metadata": {},
      "source": "::: {.callout-warning}\nThis is just for demonstration purposes!\nYou shouldn't be directly setting variables in a linked `varinfo` like this unless you know for a fact that the value will be compatible with the constraints of the model.\n:::\n\nNow, we see that the constraint `m < x` is no longer satisfied.\nHence, one might expect that if we try to evaluate the model using this `VarInfo`, we should obtain an error.\nHere, `evaluate!!` returns two things: the model's return value itself (which we defined above to be a `NamedTuple`), and the resulting `VarInfo` post-evaluation."
    },
    {
      "cell_type": "code",
      "execution_count": null,
      "metadata": {},
      "outputs": [],
      "source": "retval, ret_varinfo = DynamicPPL.evaluate!!(model, vi_linked)\ngetlogp(ret_varinfo)"
    },
    {
      "cell_type": "markdown",
      "metadata": {},
      "source": "But we don't get any errors!\nIndeed, we could even calculate the 'log probability density' for this evaluation.\n\nTo understand this, we need to look at the actual value which was used during the model evaluation.\nWe can glean this from the return value (or from the returned `VarInfo`, but the former is easier):"
    },
    {
      "cell_type": "code",
      "execution_count": null,
      "metadata": {},
      "outputs": [],
      "source": "retval"
    },
    {
      "cell_type": "markdown",
      "metadata": {},
      "source": "We can see here that the model evaluation used the value of `m` that we provided, but the value of `x` was 'updated'.\n\nThe reason for this is that internally in a model evaluation, we construct the transformation function from the internal to the model representation based on the *current* realizations in the model!\nThat is, we take the `dist` in a `x ~ dist` expression _at model evaluation time_ and use that to construct the transformation, thus allowing it to change between model evaluations without invalidating the transformation.\n\nKnowing that the distribution of `x` depends on the value of `m`, we can now understand how the model representation of `x` got updated.\nThe linked `VarInfo` does not store the model representation of `x`, but only its linked internal representation.\nSo, what happened during the model evaluation above was that the linked internal representation of `x` – which was constructed using the _original_ value of `m` – was transformed back into a new model representation using a _different_ value of `m`.\n\nWe can reproduce the 'new' value of `x` by performing these transformations manually:"
    },
    {
      "cell_type": "code",
      "execution_count": null,
      "metadata": {},
      "outputs": [],
      "source": "# Generate a fresh linked VarInfo (without the new / 'corrupted' values)\nvi_linked = link(vi, model)\n# See the linked internal representations\nDynamicPPL.getindex_internal(vi_linked, vn_m), DynamicPPL.getindex_internal(vi_linked, vn_x)"
    },
    {
      "cell_type": "markdown",
      "metadata": {},
      "source": "Now we update the value of `m` like we did before:"
    },
    {
      "cell_type": "code",
      "execution_count": null,
      "metadata": {},
      "outputs": [],
      "source": "vi_linked[vn_m] = vi_linked[vn_x] + 1\nvi_linked[vn_m]"
    },
    {
      "cell_type": "markdown",
      "metadata": {},
      "source": "When evaluating the model, the distribution of `x` is now changed, and so is the corresponding inverse bijector:"
    },
    {
      "cell_type": "code",
      "execution_count": null,
      "metadata": {},
      "outputs": [],
      "source": "new_dist_x = truncated(Normal(); lower=vi_linked[vn_m])\nnew_f_inv = DynamicPPL.invlink_transform(new_dist_x)"
    },
    {
      "cell_type": "markdown",
      "metadata": {},
      "source": "and if we apply this to the internal representation of `x`:"
    },
    {
      "cell_type": "code",
      "execution_count": null,
      "metadata": {},
      "outputs": [],
      "source": "new_f_inv(DynamicPPL.getindex_internal(vi_linked, vn_x))"
    },
    {
      "cell_type": "markdown",
      "metadata": {},
      "source": "which is the same value as we got above in `retval`.\n\n## Conclusion\n\nIn this chapter of the Turing docs, we've looked at:\n\n- why variables might need to be transformed;\n- how this is accounted for mathematically with the Jacobian term;\n- the basic API and functionality of Bijectors.jl; and\n- the higher-level usage of transforms in DynamicPPL and Turing.\n\nThis will hopefully have equipped you with a better understanding of how constrained variables are handled in the Turing framework.\nWith this knowledge, you should especially find it easier to navigate DynamicPPL's `VarInfo` type, which forms the backbone of model evaluation."
    }
  ],
  "metadata": {
    "kernelspec": {
      "display_name": "Julia",
      "language": "julia",
      "name": "julia"
    },
    "language_info": {
      "file_extension": ".jl",
      "mimetype": "application/julia",
      "name": "julia"
    }
  },
  "nbformat": 4,
  "nbformat_minor": 5
}