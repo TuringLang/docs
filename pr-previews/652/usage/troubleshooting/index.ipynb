{
  "cells": [
    {
      "cell_type": "code",
      "execution_count": null,
      "metadata": {},
      "outputs": [],
      "source": "using Pkg; Pkg.activate(; temp=true)"
    },
    {
      "cell_type": "markdown",
      "metadata": {},
      "source": "This page collects a number of common error messages observed when using Turing, along with suggestions on how to fix them.\n\nIf the suggestions here do not resolve your problem, please do feel free to [open an issue](https://github.com/TuringLang/Turing.jl/issues)."
    },
    {
      "cell_type": "code",
      "execution_count": null,
      "metadata": {},
      "outputs": [],
      "source": "using Turing\nTuring.setprogress!(false)"
    },
    {
      "cell_type": "markdown",
      "metadata": {},
      "source": "## Initial parameters\n\n> failed to find valid initial parameters in {N} tries. This may indicate an error with the model or AD backend...\n\nThis error is seen when a Hamiltonian Monte Carlo sampler is unable to determine a valid set of initial parameters for the sampling.\nHere, 'valid' means that the log probability density of the model, as well as its gradient with respect to each parameter, is finite and not `NaN`.\n\n### `NaN` gradient\n\nOne of the most common causes of this error is having a `NaN` gradient.\nTo find out whether this is happening, you can evaluate the gradient manually.\nHere is an example with a model that is known to be problematic:"
    },
    {
      "cell_type": "code",
      "execution_count": null,
      "metadata": {},
      "outputs": [],
      "source": "using Turing\nusing DynamicPPL.TestUtils.AD: run_ad\n\n@model function initial_bad()\n    a ~ Normal()\n    x ~ truncated(Normal(a), 0, Inf)\nend\n\nmodel = initial_bad()\nadtype = AutoForwardDiff()\nresult = run_ad(model, adtype; test=false, benchmark=false)\nresult.grad_actual"
    },
    {
      "cell_type": "markdown",
      "metadata": {},
      "source": "(See [the DynamicPPL docs](https://turinglang.org/DynamicPPL.jl/stable/api/#AD-testing-and-benchmarking-utilities) for more details on the `run_ad` function and its return type.)\n\nIn this case, the `NaN` gradient is caused by the `Inf` argument to `truncated`.\n(See, e.g., [this issue on Distributions.jl](https://github.com/JuliaStats/Distributions.jl/issues/1910).)\nHere, the upper bound of `Inf` is not needed, so it can be removed:"
    },
    {
      "cell_type": "code",
      "execution_count": null,
      "metadata": {},
      "outputs": [],
      "source": "@model function initial_good()\n    a ~ Normal()\n    x ~ truncated(Normal(a); lower=0)\nend\n\nmodel = initial_good()\nadtype = AutoForwardDiff()\nrun_ad(model, adtype; test=false, benchmark=false).grad_actual"
    },
    {
      "cell_type": "markdown",
      "metadata": {},
      "source": "More generally, you could try using a different AD backend; if you don't know why a model is returning `NaN` gradients, feel free to open an issue.\n\n### `-Inf` log density\n\nAnother cause of this error is having models with very extreme parameters.\nThis example is taken from [this Turing.jl issue](https://github.com/TuringLang/Turing.jl/issues/2476):"
    },
    {
      "cell_type": "code",
      "execution_count": null,
      "metadata": {},
      "outputs": [],
      "source": "@model function initial_bad2()\n    x ~ Exponential(100)\n    y ~ Uniform(0, x)\nend\nmodel = initial_bad2() | (y = 50.0,)"
    },
    {
      "cell_type": "markdown",
      "metadata": {},
      "source": "The problem here is that HMC attempts to find initial values for parameters inside the region of `[-2, 2]`, _after_ the parameters have been transformed to unconstrained space.\nFor a distribution of `Exponential(100)`, the appropriate transformation is `log(x)` (see the [variable transformation docs]({{< meta dev-transforms-distributions >}}) for more info).\n\nThus, HMC attempts to find initial values of `log(x)` in the region of `[-2, 2]`, which corresponds to `x` in the region of `[exp(-2), exp(2)]` = `[0.135, 7.39]`.\nHowever, all of these values of `x` will give rise to a zero probability density for `y` because the value of `y = 50.0` is outside the support of `Uniform(0, x)`.\nThus, the log density of the model is `-Inf`, as can be seen with `logjoint`:"
    },
    {
      "cell_type": "code",
      "execution_count": null,
      "metadata": {},
      "outputs": [],
      "source": "logjoint(model, (x = exp(-2),))"
    },
    {
      "cell_type": "code",
      "execution_count": null,
      "metadata": {},
      "outputs": [],
      "source": "logjoint(model, (x = exp(2),))"
    },
    {
      "cell_type": "markdown",
      "metadata": {},
      "source": "The most direct way of fixing this is to manually provide a set of initial parameters that are valid.\nFor example, you can obtain a set of initial parameters with `rand(Vector, model)`, and then pass this as the `initial_params` keyword argument to `sample`:"
    },
    {
      "cell_type": "code",
      "execution_count": null,
      "metadata": {},
      "outputs": [],
      "source": "sample(model, NUTS(), 1000; initial_params=rand(Vector, model))"
    },
    {
      "cell_type": "markdown",
      "metadata": {},
      "source": "More generally, you may also consider reparameterising the model to avoid such issues.\n\n## ForwardDiff type parameters\n\n> MethodError: no method matching Float64(::ForwardDiff.Dual{... The type `Float64` exists, but no method is defined for this combination of argument types when trying to construct it.\n\nA common error with ForwardDiff looks like this:"
    },
    {
      "cell_type": "code",
      "execution_count": null,
      "metadata": {},
      "outputs": [],
      "source": "#| error: true\n@model function forwarddiff_fail()\n    x = Float64[0.0, 1.0]\n    a ~ Normal()\n    @show typeof(a)\n    x[1] = a\n    b ~ MvNormal(x, I)\nend\nsample(forwarddiff_fail(), NUTS(; adtype=AutoForwardDiff()), 10)"
    },
    {
      "cell_type": "markdown",
      "metadata": {},
      "source": "The problem here is the line `x[1] = a`.\nWhen the log probability density of the model is calculated, `a` is sampled from a normal distribution and is thus a Float64; however, when ForwardDiff calculates the gradient of the log density, `a` is a `ForwardDiff.Dual` object.\nHowever, `x` is _always_ a `Vector{Float64}`, and the call `x[1] = a` attempts to insert a `Dual` object into a `Vector{Float64}`, which is not allowed.\n\n::: {.callout-note}\nIn more depth: the basic premise of ForwardDiff is that functions have to accept `Real` parameters instead of `Float64` (since `Dual` is a subtype of `Real`).\nHere, the line `x[1] = a` is equivalent to `setindex!(x, a, 1)`, and although the method `setindex!(::Vector{Float64}, ::Real, ...)` does exist, it attempts to convert the `Real` into a `Float64`, which is where it fails.\n:::\n\nThere are two ways around this.\n\nFirstly, you could broaden the type of the container:"
    },
    {
      "cell_type": "code",
      "execution_count": null,
      "metadata": {},
      "outputs": [],
      "source": "@model function forwarddiff_working1()\n    x = Real[0.0, 1.0]\n    a ~ Normal()\n    x[1] = a\n    b ~ MvNormal(x, I)\nend\nsample(forwarddiff_working1(), NUTS(; adtype=AutoForwardDiff()), 10)"
    },
    {
      "cell_type": "markdown",
      "metadata": {},
      "source": "This is generally unfavourable because the `Vector{Real}` type contains an abstract type parameter.\nAs a result, memory allocation is less efficient (because the compiler does not know the size of each vector's elements).\nFurthermore, the compiler cannot infer the type of `x[1]`, which can lead to type stability issues (to see this in action, run `x = Real[0.0, 1.0]; @code_warntype x[1]` in the Julia REPL).\n\nA better solution is to pass a type as a parameter to the model:"
    },
    {
      "cell_type": "code",
      "execution_count": null,
      "metadata": {},
      "outputs": [],
      "source": "@model function forwarddiff_working2(::Type{T}=Float64) where T\n    x = T[0.0, 1.0]\n    a ~ Normal()\n    x[1] = a\n    b ~ MvNormal(x, I)\nend\nsample(forwarddiff_working2(), NUTS(; adtype=AutoForwardDiff()), 10)"
    }
  ],
  "metadata": {
    "kernelspec": {
      "display_name": "Julia",
      "language": "julia",
      "name": "julia"
    },
    "language_info": {
      "file_extension": ".jl",
      "mimetype": "application/julia",
      "name": "julia"
    }
  },
  "nbformat": 4,
  "nbformat_minor": 5
}