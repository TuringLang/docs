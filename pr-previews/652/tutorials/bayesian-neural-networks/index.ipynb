{
  "cells": [
    {
      "cell_type": "code",
      "execution_count": null,
      "metadata": {},
      "outputs": [],
      "source": "using Pkg; Pkg.activate(; temp=true)"
    },
    {
      "cell_type": "markdown",
      "metadata": {},
      "source": "In this tutorial, we demonstrate how one can implement a Bayesian Neural Network using a combination of Turing and [Lux](https://github.com/LuxDL/Lux.jl), a suite of machine learning tools. We will use Lux to specify the neural network's layers and Turing to implement the probabilistic inference, with the goal of implementing a classification algorithm.\n\nWe will begin with importing the relevant libraries."
    },
    {
      "cell_type": "code",
      "execution_count": null,
      "metadata": {},
      "outputs": [],
      "source": "using Turing\nusing FillArrays\nusing Lux\nusing Plots\nimport Mooncake\nusing Functors\n\nusing LinearAlgebra\nusing Random"
    },
    {
      "cell_type": "markdown",
      "metadata": {},
      "source": "Our goal here is to use a Bayesian neural network to classify points in an artificial dataset.\nThe code below generates data points arranged in a box-like pattern and displays a graph of the dataset we will be working with."
    },
    {
      "cell_type": "code",
      "execution_count": null,
      "metadata": {},
      "outputs": [],
      "source": "# Number of points to generate\nN = 80\nM = round(Int, N / 4)\nrng = Random.default_rng()\nRandom.seed!(rng, 1234)\n\n# Generate artificial data\nx1s = rand(rng, Float32, M) * 4.5f0;\nx2s = rand(rng, Float32, M) * 4.5f0;\nxt1s = Array([[x1s[i] + 0.5f0; x2s[i] + 0.5f0] for i in 1:M])\nx1s = rand(rng, Float32, M) * 4.5f0;\nx2s = rand(rng, Float32, M) * 4.5f0;\nappend!(xt1s, Array([[x1s[i] - 5.0f0; x2s[i] - 5.0f0] for i in 1:M]))\n\nx1s = rand(rng, Float32, M) * 4.5f0;\nx2s = rand(rng, Float32, M) * 4.5f0;\nxt0s = Array([[x1s[i] + 0.5f0; x2s[i] - 5.0f0] for i in 1:M])\nx1s = rand(rng, Float32, M) * 4.5f0;\nx2s = rand(rng, Float32, M) * 4.5f0;\nappend!(xt0s, Array([[x1s[i] - 5.0f0; x2s[i] + 0.5f0] for i in 1:M]))\n\n# Store all the data for later\nxs = [xt1s; xt0s]\nts = [ones(2 * M); zeros(2 * M)]\n\n# Plot data points.\nfunction plot_data()\n    x1 = map(e -> e[1], xt1s)\n    y1 = map(e -> e[2], xt1s)\n    x2 = map(e -> e[1], xt0s)\n    y2 = map(e -> e[2], xt0s)\n\n    Plots.scatter(x1, y1; color=\"red\", clim=(0, 1))\n    return Plots.scatter!(x2, y2; color=\"blue\", clim=(0, 1))\nend\n\nplot_data()"
    },
    {
      "cell_type": "markdown",
      "metadata": {},
      "source": "## Building a Neural Network\n\nThe next step is to define a [feedforward neural network](https://en.wikipedia.org/wiki/Feedforward_neural_network) where we express our parameters as distributions, and not single points as with traditional neural networks.\nFor this we will use `Dense` to define liner layers and compose them via `Chain`, both are neural network primitives from Lux.\nThe network `nn_initial` we created has two hidden layers with `tanh` activations and one output layer with sigmoid (`σ`) activation, as shown below."
    },
    {
      "cell_type": "markdown",
      "metadata": {},
      "source": "```dot\n//| echo: false\ngraph G {\n    rankdir=LR;\n    nodesep=0.8;\n    ranksep=0.8;\n    node [shape=circle, fixedsize=true, width=0.8, style=\"filled\", color=black, fillcolor=\"white\", fontsize=12];\n\n    // Input layer\n    subgraph cluster_input {\n        node [label=\"\"];\n        input1;\n        input2;\n        style=\"rounded\"\n    }\n\n    // Hidden layers\n    subgraph cluster_hidden1 {\n        node [label=\"\"];\n        hidden11;\n        hidden12;\n        hidden13;\n        style=\"rounded\"\n    }\n\n    subgraph cluster_hidden2 {\n        node [label=\"\"];\n        hidden21;\n        hidden22;\n        style=\"rounded\"\n    }\n\n    // Output layer\n    subgraph cluster_output {\n        output1 [label=\"\"];\n        style=\"rounded\"\n    }\n\n    // Connections from input to hidden layer 1\n    input1 -- hidden11;\n    input1 -- hidden12;\n    input1 -- hidden13;\n    input2 -- hidden11;\n    input2 -- hidden12;\n    input2 -- hidden13;\n\n    // Connections from hidden layer 1 to hidden layer 2\n    hidden11 -- hidden21;\n    hidden11 -- hidden22;\n    hidden12 -- hidden21;\n    hidden12 -- hidden22;\n    hidden13 -- hidden21;\n    hidden13 -- hidden22; \n\n    // Connections from hidden layer 2 to output\n    hidden21 -- output1;\n    hidden22 -- output1;\n\n    // Labels\n    labelloc=\"b\";\n    fontsize=17;\n    label=\"Input layer                   Hidden layers                  Output layer\";\n}\n```"
    },
    {
      "cell_type": "markdown",
      "metadata": {},
      "source": "The `nn_initial` is an instance that acts as a function and can take data as inputs and output predictions.\nWe will define distributions on the neural network parameters. "
    },
    {
      "cell_type": "code",
      "execution_count": null,
      "metadata": {},
      "outputs": [],
      "source": "# Construct a neural network using Lux\nnn_initial = Chain(Dense(2 => 3, tanh), Dense(3 => 2, tanh), Dense(2 => 1, σ))\n\n# Initialize the model weights and state\nps, st = Lux.setup(rng, nn_initial)\n\nLux.parameterlength(nn_initial) # number of parameters in NN"
    },
    {
      "cell_type": "markdown",
      "metadata": {},
      "source": "The probabilistic model specification below creates a `parameters` variable, which has IID normal variables. The `parameters` vector represents all parameters of our neural net (weights and biases)."
    },
    {
      "cell_type": "code",
      "execution_count": null,
      "metadata": {},
      "outputs": [],
      "source": "# Create a regularization term and a Gaussian prior variance term.\nalpha = 0.09\nsigma = sqrt(1.0 / alpha)"
    },
    {
      "cell_type": "markdown",
      "metadata": {},
      "source": "We also define a function to construct a named tuple from a vector of sampled parameters.\n(We could use [`ComponentArrays`](https://github.com/jonniedie/ComponentArrays.jl) here and broadcast to avoid doing this, but this way avoids introducing an extra dependency.)"
    },
    {
      "cell_type": "code",
      "execution_count": null,
      "metadata": {},
      "outputs": [],
      "source": "function vector_to_parameters(ps_new::AbstractVector, ps::NamedTuple)\n    @assert length(ps_new) == Lux.parameterlength(ps)\n    i = 1\n    function get_ps(x)\n        z = reshape(view(ps_new, i:(i + length(x) - 1)), size(x))\n        i += length(x)\n        return z\n    end\n    return fmap(get_ps, ps)\nend"
    },
    {
      "cell_type": "markdown",
      "metadata": {},
      "source": "To interface with external libraries it is often desirable to use the [`StatefulLuxLayer`](https://lux.csail.mit.edu/stable/api/Lux/utilities#Lux.StatefulLuxLayer) to automatically handle the neural network states."
    },
    {
      "cell_type": "code",
      "execution_count": null,
      "metadata": {},
      "outputs": [],
      "source": "const nn = StatefulLuxLayer{true}(nn_initial, nothing, st)\n\n# Specify the probabilistic model.\n@model function bayes_nn(xs, ts; sigma = sigma, ps = ps, nn = nn)\n    # Sample the parameters\n    nparameters = Lux.parameterlength(nn_initial)\n    parameters ~ MvNormal(zeros(nparameters), Diagonal(abs2.(sigma .* ones(nparameters))))\n\n    # Forward NN to make predictions\n    preds = Lux.apply(nn, xs, f32(vector_to_parameters(parameters, ps)))\n\n    # Observe each prediction.\n    for i in eachindex(ts)\n        ts[i] ~ Bernoulli(preds[i])\n    end\nend"
    },
    {
      "cell_type": "markdown",
      "metadata": {},
      "source": "Inference can now be performed by calling `sample`. We use the `NUTS` Hamiltonian Monte Carlo sampler here."
    },
    {
      "cell_type": "code",
      "execution_count": null,
      "metadata": {},
      "outputs": [],
      "source": "#| output: false\nsetprogress!(false)"
    },
    {
      "cell_type": "code",
      "execution_count": null,
      "metadata": {},
      "outputs": [],
      "source": "# Perform inference.\nn_iters = 2_000\nch = sample(bayes_nn(reduce(hcat, xs), ts), NUTS(; adtype=AutoMooncake()), n_iters);"
    },
    {
      "cell_type": "markdown",
      "metadata": {},
      "source": "Now we extract the parameter samples from the sampled chain as `θ` (this is of size `5000 x 20` where `5000` is the number of iterations and `20` is the number of parameters).\nWe'll use these primarily to determine how good our model's classifier is."
    },
    {
      "cell_type": "code",
      "execution_count": null,
      "metadata": {},
      "outputs": [],
      "source": "# Extract all weight and bias parameters.\nθ = MCMCChains.group(ch, :parameters).value;"
    },
    {
      "cell_type": "markdown",
      "metadata": {},
      "source": "## Prediction Visualization\n\nWe can use [MAP estimation](https://en.wikipedia.org/wiki/Maximum_a_posteriori_estimation) to classify our population by using the set of weights that provided the highest log posterior."
    },
    {
      "cell_type": "code",
      "execution_count": null,
      "metadata": {},
      "outputs": [],
      "source": "# A helper to run the nn through data `x` using parameters `θ`\nnn_forward(x, θ) = nn(x, vector_to_parameters(θ, ps))\n\n# Plot the data we have.\nfig = plot_data()\n\n# Find the index that provided the highest log posterior in the chain.\n_, i = findmax(ch[:lp])\n\n# Extract the max row value from i.\ni = i.I[1]\n\n# Plot the posterior distribution with a contour plot\nx1_range = collect(range(-6; stop=6, length=25))\nx2_range = collect(range(-6; stop=6, length=25))\nZ = [nn_forward([x1, x2], θ[i, :])[1] for x1 in x1_range, x2 in x2_range]\ncontour!(x1_range, x2_range, Z; linewidth=3, colormap=:seaborn_bright)\nfig"
    },
    {
      "cell_type": "markdown",
      "metadata": {},
      "source": "The contour plot above shows that the MAP method is not too bad at classifying our data.\n\nNow we can visualize our predictions.\n\n$$\np(\\tilde{x} | X, \\alpha) = \\int_{\\theta} p(\\tilde{x} | \\theta) p(\\theta | X, \\alpha) \\approx \\sum_{\\theta \\sim p(\\theta | X, \\alpha)}f_{\\theta}(\\tilde{x})\n$$\n\nThe `nn_predict` function takes the average predicted value from a network parameterized by weights drawn from the MCMC chain."
    },
    {
      "cell_type": "code",
      "execution_count": null,
      "metadata": {},
      "outputs": [],
      "source": "# Return the average predicted value across\n# multiple weights.\nfunction nn_predict(x, θ, num)\n    num = min(num, size(θ, 1))  # make sure num does not exceed the number of samples\n    return mean([first(nn_forward(x, view(θ, i, :))) for i in 1:10:num])\nend"
    },
    {
      "cell_type": "markdown",
      "metadata": {},
      "source": "Next, we use the `nn_predict` function to predict the value at a sample of points where the `x1` and `x2` coordinates range between -6 and 6. As we can see below, we still have a satisfactory fit to our data, and more importantly, we can also see where the neural network is uncertain about its predictions much easier---those regions between cluster boundaries."
    },
    {
      "cell_type": "code",
      "execution_count": null,
      "metadata": {},
      "outputs": [],
      "source": "# Plot the average prediction.\nfig = plot_data()\n\nn_end = 1500\nx1_range = collect(range(-6; stop=6, length=25))\nx2_range = collect(range(-6; stop=6, length=25))\nZ = [nn_predict([x1, x2], θ, n_end)[1] for x1 in x1_range, x2 in x2_range]\ncontour!(x1_range, x2_range, Z; linewidth=3, colormap=:seaborn_bright)\nfig"
    },
    {
      "cell_type": "markdown",
      "metadata": {},
      "source": "Suppose we are interested in how the predictive power of our Bayesian neural network evolved between samples. In that case, the following graph displays an animation of the contour plot generated from the network weights in samples 1 to 1,000."
    },
    {
      "cell_type": "code",
      "execution_count": null,
      "metadata": {},
      "outputs": [],
      "source": "# Number of iterations to plot.\nn_end = 500\n\nanim = @gif for i in 1:n_end\n    plot_data()\n    Z = [nn_forward([x1, x2], θ[i, :])[1] for x1 in x1_range, x2 in x2_range]\n    contour!(x1_range, x2_range, Z; title=\"Iteration $i\", clim=(0, 1))\nend every 5"
    },
    {
      "cell_type": "markdown",
      "metadata": {},
      "source": "This has been an introduction to the applications of Turing and Lux in defining Bayesian neural networks."
    }
  ],
  "metadata": {
    "kernelspec": {
      "display_name": "Julia",
      "language": "julia",
      "name": "julia"
    },
    "language_info": {
      "file_extension": ".jl",
      "mimetype": "application/julia",
      "name": "julia"
    }
  },
  "nbformat": 4,
  "nbformat_minor": 5
}