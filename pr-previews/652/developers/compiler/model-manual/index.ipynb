{
  "cells": [
    {
      "cell_type": "markdown",
      "metadata": {},
      "source": "Traditionally, models in Turing are defined using the `@model` macro:"
    },
    {
      "cell_type": "code",
      "execution_count": null,
      "metadata": {},
      "outputs": [],
      "source": "using Turing\n\n@model function gdemo(x)\n    # Set priors.\n    s² ~ InverseGamma(2, 3)\n    m ~ Normal(0, sqrt(s²))\n\n    # Observe each value of x.\n    x .~ Normal(m, sqrt(s²))\n\n    return nothing\nend\n\nmodel = gdemo([1.5, 2.0])"
    },
    {
      "cell_type": "markdown",
      "metadata": {},
      "source": "The `@model` macro accepts a function definition and rewrites it such that call of the function generates a `Model` struct for use by the sampler.\n\nHowever, models can be constructed by hand without the use of a macro.\nTaking the `gdemo` model above as an example, the macro-based definition can be implemented also (a bit less generally) with the macro-free version"
    },
    {
      "cell_type": "code",
      "execution_count": null,
      "metadata": {},
      "outputs": [],
      "source": "using DynamicPPL\n\n# Create the model function.\nfunction gdemo2(model, varinfo, x)\n    # Assume s² has an InverseGamma distribution.\n    s², varinfo = DynamicPPL.tilde_assume!!(\n        model.context, InverseGamma(2, 3), @varname(s²), varinfo\n    )\n\n    # Assume m has a Normal distribution.\n    m, varinfo = DynamicPPL.tilde_assume!!(\n        model.context, Normal(0, sqrt(s²)), @varname(m), varinfo\n    )\n\n    # Observe each value of x[i] according to a Normal distribution.\n    for i in eachindex(x)\n        _retval, varinfo = DynamicPPL.tilde_observe!!(\n            model.context, Normal(m, sqrt(s²)), x[i], @varname(x[i]), varinfo\n        )\n    end\n\n    # The final return statement should comprise both the original return\n    # value and the updated varinfo.\n    return nothing, varinfo\nend\ngdemo2(x) = DynamicPPL.Model(gdemo2, (; x))\n\n# Instantiate a Model object with our data variables.\nmodel2 = gdemo2([1.5, 2.0])"
    },
    {
      "cell_type": "markdown",
      "metadata": {},
      "source": "We can sample from this model in the same way:"
    },
    {
      "cell_type": "code",
      "execution_count": null,
      "metadata": {},
      "outputs": [],
      "source": "chain = sample(model2, NUTS(), 1000; progress=false)"
    },
    {
      "cell_type": "markdown",
      "metadata": {},
      "source": "The subsequent pages in this section will show how the `@model` macro does this behind-the-scenes."
    }
  ],
  "metadata": {
    "kernelspec": {
      "display_name": "Julia 1.11",
      "language": "julia",
      "name": "julia-1.11"
    },
    "language_info": {
      "file_extension": ".jl",
      "mimetype": "application/julia",
      "name": "julia",
      "version": "1.11.0"
    }
  },
  "nbformat": 4,
  "nbformat_minor": 5
}