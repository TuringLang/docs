{
  "cells": [
    {
      "cell_type": "code",
      "execution_count": null,
      "metadata": {},
      "outputs": [],
      "source": "using Pkg; Pkg.activate(; temp=true)"
    },
    {
      "cell_type": "markdown",
      "metadata": {},
      "source": "Often, there are quantities in models that we might be interested in viewing the values of, but which are not random variables in the model that are explicitly drawn from a distribution.\n\nAs a motivating example, the most natural parameterization for a model might not be the most computationally feasible.\nConsider the following (efficiently reparametrized) implementation of Neal's funnel [(Neal, 2003)](https://arxiv.org/abs/physics/0009028):"
    },
    {
      "cell_type": "code",
      "execution_count": null,
      "metadata": {},
      "outputs": [],
      "source": "using Turing\nsetprogress!(false)\n\n@model function Neal()\n    # Raw draws\n    y_raw ~ Normal(0, 1)\n    x_raw ~ arraydist([Normal(0, 1) for i in 1:9])\n\n    # Transform:\n    y = 3 * y_raw\n    x = exp.(y ./ 2) .* x_raw\n    return nothing\nend"
    },
    {
      "cell_type": "markdown",
      "metadata": {},
      "source": "In this case, the random variables exposed in the chain (`x_raw`, `y_raw`) are not in a helpful form — what we're after are the deterministically transformed variables `x` and `y`.\n\nThere are two ways to track these extra quantities in Turing.jl.\n\n## Using `:=` (during inference)\n\nThe first way is to use the `:=` operator, which behaves exactly like `=` except that the values of the variables on its left-hand side are automatically added to the chain returned by the sampler.\nFor example:"
    },
    {
      "cell_type": "code",
      "execution_count": null,
      "metadata": {},
      "outputs": [],
      "source": "@model function Neal_coloneq()\n    # Raw draws\n    y_raw ~ Normal(0, 1)\n    x_raw ~ arraydist([Normal(0, 1) for i in 1:9])\n\n    # Transform:\n    y := 3 * y_raw\n    x := exp.(y ./ 2) .* x_raw\nend\n\nsample(Neal_coloneq(), NUTS(), 1000)"
    },
    {
      "cell_type": "markdown",
      "metadata": {},
      "source": "## Using `returned` (post-inference)\n\nAlternatively, one can specify the extra quantities as part of the model function's return statement:"
    },
    {
      "cell_type": "code",
      "execution_count": null,
      "metadata": {},
      "outputs": [],
      "source": "@model function Neal_return()\n    # Raw draws\n    y_raw ~ Normal(0, 1)\n    x_raw ~ arraydist([Normal(0, 1) for i in 1:9])\n\n    # Transform and return as a NamedTuple\n    y = 3 * y_raw\n    x = exp.(y ./ 2) .* x_raw\n    return (x=x, y=y)\nend\n\nchain = sample(Neal_return(), NUTS(), 1000)"
    },
    {
      "cell_type": "markdown",
      "metadata": {},
      "source": "The sampled chain does not contain `x` and `y`, but we can extract the values using the `returned` function.\nCalling this function outputs an array:"
    },
    {
      "cell_type": "code",
      "execution_count": null,
      "metadata": {},
      "outputs": [],
      "source": "nts = returned(Neal_return(), chain)"
    },
    {
      "cell_type": "markdown",
      "metadata": {},
      "source": "where each element of which is a NamedTuple, as specified in the return statement of the model."
    },
    {
      "cell_type": "code",
      "execution_count": null,
      "metadata": {},
      "outputs": [],
      "source": "nts[1]"
    },
    {
      "cell_type": "markdown",
      "metadata": {},
      "source": "## Which to use?\n\nThere are some pros and cons of using `returned`, as opposed to `:=`.\n\nFirstly, `returned` is more flexible, as it allows you to track any type of object; `:=` only works with variables that can be inserted into an `MCMCChains.Chains` object.\n(Notice that `x` is a vector, and in the first case where we used `:=`, reconstructing the vector value of `x` can also be rather annoying as the chain stores each individual element of `x` separately.)\n\nA drawback is that naively using `returned` can lead to unnecessary computation during inference.\nThis is because during the sampling process, the return values are also calculated (since they are part of the model function), but then thrown away.\nSo, if the extra quantities are expensive to compute, this can be a problem.\n\nTo avoid this, you will essentially have to create two different models, one for inference and one for post-inference.\nThe simplest way of doing this is to add a parameter to the model argument:"
    },
    {
      "cell_type": "code",
      "execution_count": null,
      "metadata": {},
      "outputs": [],
      "source": "@model function Neal_coloneq_optional(track::Bool)\n    # Raw draws\n    y_raw ~ Normal(0, 1)\n    x_raw ~ arraydist([Normal(0, 1) for i in 1:9])\n\n    if track\n        y = 3 * y_raw\n        x = exp.(y ./ 2) .* x_raw\n        return (x=x, y=y)\n    else\n        return nothing\n    end\nend\n\nchain = sample(Neal_coloneq_optional(false), NUTS(), 1000)"
    },
    {
      "cell_type": "markdown",
      "metadata": {},
      "source": "The above ensures that `x` and `y` are not calculated during inference, but allows us to still use `returned` to extract them:"
    },
    {
      "cell_type": "code",
      "execution_count": null,
      "metadata": {},
      "outputs": [],
      "source": "returned(Neal_coloneq_optional(true), chain)"
    },
    {
      "cell_type": "markdown",
      "metadata": {},
      "source": "Another equivalent option is to use a submodel:"
    },
    {
      "cell_type": "code",
      "execution_count": null,
      "metadata": {},
      "outputs": [],
      "source": "@model function Neal()\n    y_raw ~ Normal(0, 1)\n    x_raw ~ arraydist([Normal(0, 1) for i in 1:9])\n    return (x_raw=x_raw, y_raw=y_raw)\nend\n\nchain = sample(Neal(), NUTS(), 1000)\n\n@model function Neal_with_extras()\n    neal ~ to_submodel(Neal(), false)\n    y = 3 * neal.y_raw\n    x = exp.(y ./ 2) .* neal.x_raw\n    return (x=x, y=y)\nend\n\nreturned(Neal_with_extras(), chain)"
    },
    {
      "cell_type": "markdown",
      "metadata": {},
      "source": "Note that for the `returned` call to work, the `Neal_with_extras()` model must have the same variable names as stored in `chain`.\nThis means the submodel `Neal()` must not be prefixed, i.e. `to_submodel()` must be passed a second parameter `false`."
    }
  ],
  "metadata": {
    "kernelspec": {
      "display_name": "Julia",
      "language": "julia",
      "name": "julia"
    },
    "language_info": {
      "file_extension": ".jl",
      "mimetype": "application/julia",
      "name": "julia"
    }
  },
  "nbformat": 4,
  "nbformat_minor": 5
}