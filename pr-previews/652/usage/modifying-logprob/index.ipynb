{
  "cells": [
    {
      "cell_type": "code",
      "execution_count": null,
      "metadata": {},
      "outputs": [],
      "source": "using Pkg; Pkg.activate(; temp=true)\nPkg.add(\"LinearAlgebra\")\nPkg.add(\"Turing\")"
    },
    {
      "cell_type": "markdown",
      "metadata": {},
      "source": "Turing accumulates log probabilities internally in an internal data structure that is accessible through the internal variable `__varinfo__` inside of the model definition.\nTo avoid users having to deal with internal data structures, Turing provides the `@addlogprob!` macro which increases the accumulated log probability.\nFor instance, this allows you to\n[include arbitrary terms in the likelihood](https://github.com/TuringLang/Turing.jl/issues/1332)"
    },
    {
      "cell_type": "code",
      "execution_count": null,
      "metadata": {},
      "outputs": [],
      "source": "using Turing\n\nmyloglikelihood(x, μ) = loglikelihood(Normal(μ, 1), x)\n\n@model function demo(x)\n    μ ~ Normal()\n    @addlogprob! myloglikelihood(x, μ)\nend"
    },
    {
      "cell_type": "markdown",
      "metadata": {},
      "source": "and to force a sampler to [reject a sample](https://github.com/TuringLang/Turing.jl/issues/1328):"
    },
    {
      "cell_type": "code",
      "execution_count": null,
      "metadata": {},
      "outputs": [],
      "source": "using Turing\nusing LinearAlgebra\n\n@model function demo(x)\n    m ~ MvNormal(zero(x), I)\n    if dot(m, x) < 0\n        @addlogprob! -Inf\n        # Exit the model evaluation early\n        return nothing\n    end\n\n    x ~ MvNormal(m, I)\n    return nothing\nend"
    },
    {
      "cell_type": "markdown",
      "metadata": {},
      "source": "Note that `@addlogprob! (p::Float64)` adds `p` to the log likelihood.\nIf instead you want to add to the log prior, you can use"
    },
    {
      "cell_type": "code",
      "execution_count": null,
      "metadata": {},
      "outputs": [],
      "source": "#| eval: false\n@addlogprob! (; logprior=value_goes_here)"
    }
  ],
  "metadata": {
    "kernelspec": {
      "display_name": "Julia",
      "language": "julia",
      "name": "julia"
    },
    "language_info": {
      "file_extension": ".jl",
      "mimetype": "application/julia",
      "name": "julia"
    }
  },
  "nbformat": 4,
  "nbformat_minor": 5
}