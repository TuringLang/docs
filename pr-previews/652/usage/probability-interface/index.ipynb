{
  "cells": [
    {
      "cell_type": "code",
      "execution_count": null,
      "metadata": {},
      "outputs": [],
      "source": "using Pkg; Pkg.activate(; temp=true)\nPkg.add(\"DynamicPPL\")\nPkg.add(\"Random\")\nPkg.add(\"Turing\")"
    },
    {
      "cell_type": "markdown",
      "metadata": {},
      "source": "The easiest way to manipulate and query Turing models is via the DynamicPPL probability interface.\n\nLet's use a simple model of normally-distributed data as an example."
    },
    {
      "cell_type": "code",
      "execution_count": null,
      "metadata": {},
      "outputs": [],
      "source": "using Turing\nusing DynamicPPL\nusing Random\n\n@model function gdemo(n)\n    μ ~ Normal(0, 1)\n    x ~ MvNormal(fill(μ, n), I)\nend"
    },
    {
      "cell_type": "markdown",
      "metadata": {},
      "source": "We generate some data using `μ = 0`:"
    },
    {
      "cell_type": "code",
      "execution_count": null,
      "metadata": {},
      "outputs": [],
      "source": "Random.seed!(1776)\ndataset = randn(100)\ndataset[1:5]"
    },
    {
      "cell_type": "markdown",
      "metadata": {},
      "source": "## Conditioning and Deconditioning\n\nBayesian models can be transformed with two main operations, conditioning and deconditioning (also known as marginalization).\nConditioning takes a variable and fixes its value as known.\nWe do this by passing a model and a collection of conditioned variables to `|`, or its alias, `condition`:"
    },
    {
      "cell_type": "code",
      "execution_count": null,
      "metadata": {},
      "outputs": [],
      "source": "# (equivalently)\n# conditioned_model = condition(gdemo(length(dataset)), (x=dataset, μ=0))\nconditioned_model = gdemo(length(dataset)) | (x=dataset, μ=0)"
    },
    {
      "cell_type": "markdown",
      "metadata": {},
      "source": "This operation can be reversed by applying `decondition`:"
    },
    {
      "cell_type": "code",
      "execution_count": null,
      "metadata": {},
      "outputs": [],
      "source": "original_model = decondition(conditioned_model)"
    },
    {
      "cell_type": "markdown",
      "metadata": {},
      "source": "We can also decondition only some of the variables:"
    },
    {
      "cell_type": "code",
      "execution_count": null,
      "metadata": {},
      "outputs": [],
      "source": "partially_conditioned = decondition(conditioned_model, :μ)"
    },
    {
      "cell_type": "markdown",
      "metadata": {},
      "source": "We can see which of the variables in a model have been conditioned with `DynamicPPL.conditioned`:"
    },
    {
      "cell_type": "code",
      "execution_count": null,
      "metadata": {},
      "outputs": [],
      "source": "DynamicPPL.conditioned(partially_conditioned)"
    },
    {
      "cell_type": "markdown",
      "metadata": {},
      "source": "::: {.callout-note}\nSometimes it is helpful to define convenience functions for conditioning on some variable(s).\nFor instance, in this example we might want to define a version of `gdemo` that conditions on some observations of `x`:\n\n```julia\ngdemo(x::AbstractVector{<:Real}) = gdemo(length(x)) | (; x)\n```\n\nFor illustrative purposes, however, we do not use this function in the examples below.\n:::\n\n## Probabilities and Densities\n\nWe often want to calculate the (unnormalized) probability density for an event.\nThis probability might be a prior, a likelihood, or a posterior (joint) density.\nDynamicPPL provides convenient functions for this.\nTo begin, let's define a model `gdemo`, condition it on a dataset, and draw a sample.\nThe returned sample only contains `μ`, since the value of `x` has already been fixed:"
    },
    {
      "cell_type": "code",
      "execution_count": null,
      "metadata": {},
      "outputs": [],
      "source": "model = gdemo(length(dataset)) | (x=dataset,)\n\nRandom.seed!(124)\nsample = rand(model)"
    },
    {
      "cell_type": "markdown",
      "metadata": {},
      "source": "We can then calculate the joint probability of a set of samples (here drawn from the prior) with `logjoint`."
    },
    {
      "cell_type": "code",
      "execution_count": null,
      "metadata": {},
      "outputs": [],
      "source": "logjoint(model, sample)"
    },
    {
      "cell_type": "markdown",
      "metadata": {},
      "source": "For models with many variables `rand(model)` can be prohibitively slow since it returns a `NamedTuple` of samples from the prior distribution of the unconditioned variables.\nWe recommend working with samples of type `DataStructures.OrderedDict` in this case (which Turing re-exports, so can be used directly):"
    },
    {
      "cell_type": "code",
      "execution_count": null,
      "metadata": {},
      "outputs": [],
      "source": "Random.seed!(124)\nsample_dict = rand(OrderedDict, model)"
    },
    {
      "cell_type": "markdown",
      "metadata": {},
      "source": "`logjoint` can also be used on this sample:"
    },
    {
      "cell_type": "code",
      "execution_count": null,
      "metadata": {},
      "outputs": [],
      "source": "logjoint(model, sample_dict)"
    },
    {
      "cell_type": "markdown",
      "metadata": {},
      "source": "The prior probability and the likelihood of a set of samples can be calculated with the functions `logprior` and `loglikelihood` respectively.\nThe log joint probability is the sum of these two quantities:"
    },
    {
      "cell_type": "code",
      "execution_count": null,
      "metadata": {},
      "outputs": [],
      "source": "logjoint(model, sample) ≈ loglikelihood(model, sample) + logprior(model, sample)"
    },
    {
      "cell_type": "code",
      "execution_count": null,
      "metadata": {},
      "outputs": [],
      "source": "logjoint(model, sample_dict) ≈ loglikelihood(model, sample_dict) + logprior(model, sample_dict)"
    },
    {
      "cell_type": "markdown",
      "metadata": {},
      "source": "## Example: Cross-validation\n\nTo give an example of the probability interface in use, we can use it to estimate the performance of our model using cross-validation.\nIn cross-validation, we split the dataset into several equal parts.\nThen, we choose one of these sets to serve as the validation set.\nHere, we measure fit using the cross entropy (Bayes loss).[^1]\n(For the sake of simplicity, in the following code, we enforce that `nfolds` must divide the number of data points.\nFor a more competent implementation, see [MLUtils.jl](https://juliaml.github.io/MLUtils.jl/dev/api/#MLUtils.kfolds).)"
    },
    {
      "cell_type": "code",
      "execution_count": null,
      "metadata": {},
      "outputs": [],
      "source": "# Calculate the train/validation splits across `nfolds` partitions, assume `length(dataset)` divides `nfolds`\nfunction kfolds(dataset::Array{<:Real}, nfolds::Int)\n    fold_size, remaining = divrem(length(dataset), nfolds)\n    if remaining != 0\n        error(\"The number of folds must divide the number of data points.\")\n    end\n    first_idx = firstindex(dataset)\n    last_idx = lastindex(dataset)\n    splits = map(0:(nfolds - 1)) do i\n        start_idx = first_idx + i * fold_size\n        end_idx = start_idx + fold_size\n        train_set_indices = [first_idx:(start_idx - 1); end_idx:last_idx]\n        return (view(dataset, train_set_indices), view(dataset, start_idx:(end_idx - 1)))\n    end\n    return splits\nend\n\nfunction cross_val(\n    dataset::Vector{<:Real};\n    nfolds::Int=5,\n    nsamples::Int=1_000,\n    rng::Random.AbstractRNG=Random.default_rng(),\n)\n    # Initialize `loss` in a way such that the loop below does not change its type\n    model = gdemo(1) | (x=[first(dataset)],)\n    loss = zero(logjoint(model, rand(rng, model)))\n\n    for (train, validation) in kfolds(dataset, nfolds)\n        # First, we train the model on the training set, i.e., we obtain samples from the posterior.\n        # For normally-distributed data, the posterior can be computed in closed form.\n        # For general models, however, typically samples will be generated using MCMC with Turing.\n        posterior = Normal(mean(train), 1)\n        samples = rand(rng, posterior, nsamples)\n\n        # Evaluation on the validation set.\n        validation_model = gdemo(length(validation)) | (x=validation,)\n        loss += sum(samples) do sample\n            logjoint(validation_model, (μ=sample,))\n        end\n    end\n\n    return loss\nend\n\ncross_val(dataset)"
    },
    {
      "cell_type": "markdown",
      "metadata": {},
      "source": "[^1]: See [ParetoSmooth.jl](https://github.com/TuringLang/ParetoSmooth.jl) for a faster and more accurate implementation of cross-validation than the one provided here."
    }
  ],
  "metadata": {
    "kernelspec": {
      "display_name": "Julia",
      "language": "julia",
      "name": "julia"
    },
    "language_info": {
      "file_extension": ".jl",
      "mimetype": "application/julia",
      "name": "julia"
    }
  },
  "nbformat": 4,
  "nbformat_minor": 5
}