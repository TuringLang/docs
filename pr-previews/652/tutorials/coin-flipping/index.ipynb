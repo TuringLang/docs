{
  "cells": [
    {
      "cell_type": "code",
      "execution_count": null,
      "metadata": {},
      "outputs": [],
      "source": "using Pkg; Pkg.activate(; temp=true)\nPkg.add(\"Distributions\")\nPkg.add(\"MCMCChains\")\nPkg.add(\"Random\")\nPkg.add(\"StatsPlots\")\nPkg.add(\"Turing\")"
    },
    {
      "cell_type": "markdown",
      "metadata": {},
      "source": "This is the first of a series of guided tutorials on the Turing language.\nIn this tutorial, we will use Bayesian inference to estimate the probability that a coin flip will result in heads, given a series of observations.\n\n### Setup\n\nFirst, let us load some packages that we need to simulate a coin flip:"
    },
    {
      "cell_type": "code",
      "execution_count": null,
      "metadata": {},
      "outputs": [],
      "source": "using Distributions\n\nusing Random\nRandom.seed!(12); # Set seed for reproducibility"
    },
    {
      "cell_type": "markdown",
      "metadata": {},
      "source": "and to visualize our results."
    },
    {
      "cell_type": "code",
      "execution_count": null,
      "metadata": {},
      "outputs": [],
      "source": "using StatsPlots"
    },
    {
      "cell_type": "markdown",
      "metadata": {},
      "source": "Note that Turing is not loaded here — we do not use it in this example.\nNext, we configure the data generating model. Let us set the true probability that a coin flip turns up heads"
    },
    {
      "cell_type": "code",
      "execution_count": null,
      "metadata": {},
      "outputs": [],
      "source": "p_true = 0.5;"
    },
    {
      "cell_type": "markdown",
      "metadata": {},
      "source": "and set the number of coin flips we will show our model."
    },
    {
      "cell_type": "code",
      "execution_count": null,
      "metadata": {},
      "outputs": [],
      "source": "N = 100;"
    },
    {
      "cell_type": "markdown",
      "metadata": {},
      "source": "We simulate `N` coin flips by drawing N random samples from the Bernoulli distribution with success probability `p_true`. The draws are collected in a variable called `data`:"
    },
    {
      "cell_type": "code",
      "execution_count": null,
      "metadata": {},
      "outputs": [],
      "source": "data = rand(Bernoulli(p_true), N);"
    },
    {
      "cell_type": "markdown",
      "metadata": {},
      "source": "Here are the first five coin flips:"
    },
    {
      "cell_type": "code",
      "execution_count": null,
      "metadata": {},
      "outputs": [],
      "source": "data[1:5]"
    },
    {
      "cell_type": "markdown",
      "metadata": {},
      "source": "### Coin Flipping Without Turing\n\nThe following example illustrates the effect of updating our beliefs with every piece of new evidence we observe.\n\nAssume that we are unsure about the probability of heads in a coin flip. To get an intuitive understanding of what \"updating our beliefs\" is, we will visualize the probability of heads in a coin flip after each observed evidence.\n\nWe begin by specifying a prior belief about the distribution of heads and tails in a coin toss. Here we choose a [Beta](https://en.wikipedia.org/wiki/Beta_distribution) distribution as prior distribution for the probability of heads. Before any coin flip is observed, we assume a uniform distribution $\\operatorname{U}(0, 1) = \\operatorname{Beta}(1, 1)$ of the probability of heads. I.e., every probability is equally likely initially."
    },
    {
      "cell_type": "code",
      "execution_count": null,
      "metadata": {},
      "outputs": [],
      "source": "prior_belief = Beta(1, 1);"
    },
    {
      "cell_type": "markdown",
      "metadata": {},
      "source": "With our priors set and our data at hand, we can perform Bayesian inference.\n\nThis is a fairly simple process. We expose one additional coin flip to our model every iteration, such that the first run only sees the first coin flip, while the last iteration sees all the coin flips. In each iteration we update our belief to an updated version of the original Beta distribution that accounts for the new proportion of heads and tails. The update is particularly simple since our prior distribution is a [conjugate prior](https://en.wikipedia.org/wiki/Conjugate_prior). Note that a closed-form expression for the posterior (implemented in the `updated_belief` expression below) is not accessible in general and usually does not exist for more interesting models."
    },
    {
      "cell_type": "code",
      "execution_count": null,
      "metadata": {},
      "outputs": [],
      "source": "function updated_belief(prior_belief::Beta, data::AbstractArray{Bool})\n    # Count the number of heads and tails.\n    heads = sum(data)\n    tails = length(data) - heads\n\n    # Update our prior belief in closed form (this is possible because we use a conjugate prior).\n    return Beta(prior_belief.α + heads, prior_belief.β + tails)\nend\n\n# Show updated belief for increasing number of observations\n@gif for n in 0:N\n    plot(\n        updated_belief(prior_belief, data[1:n]);\n        size=(500, 250),\n        title=\"Updated belief after $n observations\",\n        xlabel=\"probability of heads\",\n        ylabel=\"\",\n        legend=nothing,\n        xlim=(0, 1),\n        fill=0,\n        α=0.3,\n        w=3,\n    )\n    vline!([p_true])\nend"
    },
    {
      "cell_type": "markdown",
      "metadata": {},
      "source": "The animation above shows that with increasing evidence our belief about the probability of heads in a coin flip slowly adjusts towards the true value.\nThe orange line in the animation represents the true probability of seeing heads on a single coin flip, while the mode of the distribution shows what the model believes the probability of a heads is given the evidence it has seen.\n\nFor the mathematically inclined, the $\\operatorname{Beta}$ distribution is updated by adding each coin flip to the parameters $\\alpha$ and $\\beta$ of the distribution.\nInitially, the parameters are defined as $\\alpha = 1$ and $\\beta = 1$.\nOver time, with more and more coin flips, $\\alpha$ and $\\beta$ will be approximately equal to each other as we are equally likely to flip a heads or a tails.\n\nThe mean of the $\\operatorname{Beta}(\\alpha, \\beta)$ distribution is\n\n$$\\operatorname{E}[X] = \\dfrac{\\alpha}{\\alpha+\\beta}.$$\n\nThis implies that the plot of the distribution will become centered around 0.5 for a large enough number of coin flips, as we expect $\\alpha \\approx \\beta$.\n\nThe variance of the $\\operatorname{Beta}(\\alpha, \\beta)$ distribution is\n\n$$\\operatorname{var}[X] = \\dfrac{\\alpha\\beta}{(\\alpha + \\beta)^2 (\\alpha + \\beta + 1)}.$$\n\nThus the variance of the distribution will approach 0 with more and more samples, as the denominator will grow faster than will the numerator.\nMore samples means less variance.\nThis implies that the distribution will reflect less uncertainty about the probability of receiving a heads and the plot will become more tightly centered around 0.5 for a large enough number of coin flips.\n\n### Coin Flipping With Turing\n\nWe now move away from the closed-form expression above.\nWe use **Turing** to specify the same model and to approximate the posterior distribution with samples.\nTo do so, we first need to load `Turing`."
    },
    {
      "cell_type": "code",
      "execution_count": null,
      "metadata": {},
      "outputs": [],
      "source": "using Turing"
    },
    {
      "cell_type": "markdown",
      "metadata": {},
      "source": "Additionally, we load `MCMCChains`, a library for analyzing and visualizing the samples with which we approximate the posterior distribution."
    },
    {
      "cell_type": "code",
      "execution_count": null,
      "metadata": {},
      "outputs": [],
      "source": "using MCMCChains"
    },
    {
      "cell_type": "markdown",
      "metadata": {},
      "source": "First, we define the coin-flip model using Turing."
    },
    {
      "cell_type": "code",
      "execution_count": null,
      "metadata": {},
      "outputs": [],
      "source": "# Unconditioned coinflip model with `N` observations.\n@model function coinflip(; N::Int)\n    # Our prior belief about the probability of heads in a coin toss.\n    p ~ Beta(1, 1)\n\n    # Heads or tails of a coin are drawn from `N` independent and identically\n    # distributed Bernoulli distributions with success rate `p`.\n    y ~ filldist(Bernoulli(p), N)\n\n    return y\nend;"
    },
    {
      "cell_type": "markdown",
      "metadata": {},
      "source": "In the Turing model the prior distribution of the variable `p`, the probability of heads in a coin toss, and the distribution of the observations `y` are specified on the right-hand side of the `~` expressions.\nThe `@model` macro modifies the body of the Julia function `coinflip` and, e.g., replaces the `~` statements with internal function calls that are used for sampling.\n\nHere we defined a model that is not conditioned on any specific observations as this allows us to easily obtain samples of both `p` and `y` with"
    },
    {
      "cell_type": "code",
      "execution_count": null,
      "metadata": {},
      "outputs": [],
      "source": "rand(coinflip(; N))"
    },
    {
      "cell_type": "markdown",
      "metadata": {},
      "source": "The model can be conditioned on some observations with `|`.\nSee the [documentation of the `condition` syntax](https://turinglang.github.io/DynamicPPL.jl/stable/api/#Condition-and-decondition) in `DynamicPPL.jl` for more details.\nIn the conditioned `model` the observations `y` are fixed to `data`."
    },
    {
      "cell_type": "code",
      "execution_count": null,
      "metadata": {},
      "outputs": [],
      "source": "coinflip(y::AbstractVector{<:Real}) = coinflip(; N=length(y)) | (; y)\n\nmodel = coinflip(data);"
    },
    {
      "cell_type": "markdown",
      "metadata": {},
      "source": "After defining the model, we can approximate the posterior distribution by drawing samples from the distribution.\nIn this example, we use a [Hamiltonian Monte Carlo](https://en.wikipedia.org/wiki/Hamiltonian_Monte_Carlo) sampler to draw these samples.\nOther tutorials give more information on the samplers available in Turing and discuss their use for different models."
    },
    {
      "cell_type": "code",
      "execution_count": null,
      "metadata": {},
      "outputs": [],
      "source": "sampler = NUTS();"
    },
    {
      "cell_type": "markdown",
      "metadata": {},
      "source": "We approximate the posterior distribution with 1000 samples:"
    },
    {
      "cell_type": "code",
      "execution_count": null,
      "metadata": {},
      "outputs": [],
      "source": "chain = sample(model, sampler, 2_000, progress=false);"
    },
    {
      "cell_type": "markdown",
      "metadata": {},
      "source": "The `sample` function and common keyword arguments are explained more extensively in the documentation of [AbstractMCMC.jl](https://turinglang.github.io/AbstractMCMC.jl/dev/api/).\n\nAfter finishing the sampling process, we can visually compare the closed-form posterior distribution with the approximation obtained with Turing."
    },
    {
      "cell_type": "code",
      "execution_count": null,
      "metadata": {},
      "outputs": [],
      "source": "histogram(chain)"
    },
    {
      "cell_type": "markdown",
      "metadata": {},
      "source": "Now we can build our plot:"
    },
    {
      "cell_type": "code",
      "execution_count": null,
      "metadata": {},
      "outputs": [],
      "source": "#| echo: false\n@assert isapprox(mean(chain, :p), 0.5; atol=0.1) \"Estimated mean of parameter p: $(mean(chain, :p)) - not in [0.4, 0.6]!\""
    },
    {
      "cell_type": "code",
      "execution_count": null,
      "metadata": {},
      "outputs": [],
      "source": "# Visualize a blue density plot of the approximate posterior distribution using HMC (see Chain 1 in the legend).\ndensity(chain; xlim=(0, 1), legend=:best, w=2, c=:blue)\n\n# Visualize a green density plot of the posterior distribution in closed-form.\nplot!(\n    0:0.01:1,\n    pdf.(updated_belief(prior_belief, data), 0:0.01:1);\n    xlabel=\"probability of heads\",\n    ylabel=\"\",\n    title=\"\",\n    xlim=(0, 1),\n    label=\"Closed-form\",\n    fill=0,\n    α=0.3,\n    w=3,\n    c=:lightgreen,\n)\n\n# Visualize the true probability of heads in red.\nvline!([p_true]; label=\"True probability\", c=:red)"
    },
    {
      "cell_type": "markdown",
      "metadata": {},
      "source": "As we can see, the samples obtained with Turing closely approximate the true posterior distribution.\nHopefully this tutorial has provided an easy-to-follow, yet informative introduction to Turing's simpler applications.\nMore advanced usage is demonstrated in other tutorials."
    }
  ],
  "metadata": {
    "kernelspec": {
      "display_name": "Julia",
      "language": "julia",
      "name": "julia"
    },
    "language_info": {
      "file_extension": ".jl",
      "mimetype": "application/julia",
      "name": "julia"
    }
  },
  "nbformat": 4,
  "nbformat_minor": 5
}